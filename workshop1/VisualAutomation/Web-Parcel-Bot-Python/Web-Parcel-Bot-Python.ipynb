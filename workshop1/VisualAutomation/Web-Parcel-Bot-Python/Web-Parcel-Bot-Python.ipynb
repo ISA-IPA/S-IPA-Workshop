{
 "cells": [
  {
   "cell_type": "markdown",
   "metadata": {},
   "source": [
    "# Web-Parcel-Bot-Python\n",
    "### https://github.com/telescopeuser/TagUI-Python"
   ]
  },
  {
   "cell_type": "markdown",
   "metadata": {},
   "source": [
    "### Install tagui for python (required for first time use)"
   ]
  },
  {
   "cell_type": "code",
   "execution_count": null,
   "metadata": {},
   "outputs": [],
   "source": [
    "#!pip install tagui"
   ]
  },
  {
   "cell_type": "markdown",
   "metadata": {},
   "source": [
    "### Import tagui for python"
   ]
  },
  {
   "cell_type": "code",
   "execution_count": 1,
   "metadata": {},
   "outputs": [],
   "source": [
    "import tagui as t"
   ]
  },
  {
   "cell_type": "markdown",
   "metadata": {},
   "source": [
    "### Import other packages"
   ]
  },
  {
   "cell_type": "code",
   "execution_count": 21,
   "metadata": {},
   "outputs": [],
   "source": [
    "import pandas as pd\n",
    "from time import localtime, strftime"
   ]
  },
  {
   "cell_type": "markdown",
   "metadata": {},
   "source": [
    "### Web-Parcel-Bot-Python \n",
    "#### 1. Shortcut method"
   ]
  },
  {
   "cell_type": "code",
   "execution_count": 22,
   "metadata": {
    "scrolled": true
   },
   "outputs": [],
   "source": [
    "Parcel_DB = pd.read_csv('resources/Parcel_DB.csv' )"
   ]
  },
  {
   "cell_type": "code",
   "execution_count": 23,
   "metadata": {},
   "outputs": [
    {
     "data": {
      "text/html": [
       "<div>\n",
       "<style scoped>\n",
       "    .dataframe tbody tr th:only-of-type {\n",
       "        vertical-align: middle;\n",
       "    }\n",
       "\n",
       "    .dataframe tbody tr th {\n",
       "        vertical-align: top;\n",
       "    }\n",
       "\n",
       "    .dataframe thead th {\n",
       "        text-align: right;\n",
       "    }\n",
       "</style>\n",
       "<table border=\"1\" class=\"dataframe\">\n",
       "  <thead>\n",
       "    <tr style=\"text-align: right;\">\n",
       "      <th></th>\n",
       "      <th>sn</th>\n",
       "      <th>name</th>\n",
       "      <th>parcel_id</th>\n",
       "      <th>messenger_id</th>\n",
       "      <th>filename</th>\n",
       "      <th>status</th>\n",
       "      <th>status_text</th>\n",
       "    </tr>\n",
       "  </thead>\n",
       "  <tbody>\n",
       "    <tr>\n",
       "      <th>0</th>\n",
       "      <td>1</td>\n",
       "      <td>Sam</td>\n",
       "      <td>DZ140053180NZ</td>\n",
       "      <td>NaN</td>\n",
       "      <td>NaN</td>\n",
       "      <td>NaN</td>\n",
       "      <td>NaN</td>\n",
       "    </tr>\n",
       "    <tr>\n",
       "      <th>1</th>\n",
       "      <td>2</td>\n",
       "      <td>DiDi</td>\n",
       "      <td>DZ140053182NZ</td>\n",
       "      <td>NaN</td>\n",
       "      <td>NaN</td>\n",
       "      <td>NaN</td>\n",
       "      <td>NaN</td>\n",
       "    </tr>\n",
       "  </tbody>\n",
       "</table>\n",
       "</div>"
      ],
      "text/plain": [
       "   sn  name      parcel_id  messenger_id  filename  status  status_text\n",
       "0   1   Sam  DZ140053180NZ           NaN       NaN     NaN          NaN\n",
       "1   2  DiDi  DZ140053182NZ           NaN       NaN     NaN          NaN"
      ]
     },
     "execution_count": 23,
     "metadata": {},
     "output_type": "execute_result"
    }
   ],
   "source": [
    "Parcel_DB.head()"
   ]
  },
  {
   "cell_type": "code",
   "execution_count": 24,
   "metadata": {},
   "outputs": [
    {
     "data": {
      "text/plain": [
       "'DZ140053180NZ'"
      ]
     },
     "execution_count": 24,
     "metadata": {},
     "output_type": "execute_result"
    }
   ],
   "source": [
    "Parcel_DB.parcel_id[0]"
   ]
  },
  {
   "cell_type": "code",
   "execution_count": 25,
   "metadata": {},
   "outputs": [
    {
     "data": {
      "text/plain": [
       "True"
      ]
     },
     "execution_count": 25,
     "metadata": {},
     "output_type": "execute_result"
    }
   ],
   "source": [
    "# ad-hoc demo\n",
    "t.init(visual_automation = True)\n",
    "t.url('http://qexpress.co.nz/tracking.aspx?orderNumber=' + str(Parcel_DB.parcel_id[0]).lstrip())\n",
    "t.wait(1.5)\n",
    "t.keyboard('[end]')\n",
    "t.wait(0.5)\n",
    "t.snap('page.png', 'results/adhoc-results.png')\n",
    "t.wait(0.5)\n",
    "t.close()"
   ]
  },
  {
   "cell_type": "markdown",
   "metadata": {},
   "source": [
    "---"
   ]
  },
  {
   "cell_type": "markdown",
   "metadata": {},
   "source": [
    "### Define Function: Enquire_Parcel "
   ]
  },
  {
   "cell_type": "code",
   "execution_count": 26,
   "metadata": {},
   "outputs": [],
   "source": [
    "# strftime(\"%Y-%m-%d-%Hm%Mm%Ss\", localtime())"
   ]
  },
  {
   "cell_type": "code",
   "execution_count": 27,
   "metadata": {},
   "outputs": [],
   "source": [
    "# Function\n",
    "# input : Parcel ID, type: string\n",
    "# Return: File name of screenshot png image containing parcel status results, type: string\n",
    "\n",
    "def Enquire_Parcel(str_parcel_id):\n",
    "    print('str_parcel_id   : ', str_parcel_id)\n",
    "\n",
    "    result_filename = 'results\\\\' + str(str_parcel_id).lstrip() + strftime(\"-%Y-%m-%d-%Hm%Mm%Ss\", localtime()) + '.png'\n",
    "    print('result_filename : ', result_filename)\n",
    "    \n",
    "    t.init(visual_automation = True)\n",
    "    t.url('http://qexpress.co.nz/tracking.aspx?orderNumber=' + str(str_parcel_id).lstrip())\n",
    "    t.wait(1.5)\n",
    "    t.keyboard('[end]')\n",
    "    t.wait(0.5)\n",
    "    t.snap('page.png', result_filename)\n",
    "    t.wait(0.5)\n",
    "    t.close()\n",
    "\n",
    "    return result_filename;"
   ]
  },
  {
   "cell_type": "code",
   "execution_count": 28,
   "metadata": {},
   "outputs": [],
   "source": [
    "# filename = Enquire_Parcel(Parcel_DB.parcel_id[0])"
   ]
  },
  {
   "cell_type": "markdown",
   "metadata": {},
   "source": [
    "### Create a loop to check status for all parcels, and update database: dataframe/csv"
   ]
  },
  {
   "cell_type": "code",
   "execution_count": 29,
   "metadata": {},
   "outputs": [
    {
     "name": "stdout",
     "output_type": "stream",
     "text": [
      "str_parcel_id   :  DZ140053180NZ\n",
      "result_filename :  results\\DZ140053180NZ-2019-07-24-18m18m42s.png\n",
      "=== Parcel status update completed ===\n",
      "\n",
      "str_parcel_id   :  DZ140053182NZ\n",
      "result_filename :  results\\DZ140053182NZ-2019-07-24-18m19m05s.png\n",
      "=== Parcel status update completed ===\n",
      "\n"
     ]
    }
   ],
   "source": [
    "for i in range(0, len(Parcel_DB)):\n",
    "    filename = Enquire_Parcel(Parcel_DB.parcel_id[i])\n",
    "    Parcel_DB.loc[Parcel_DB['parcel_id'] == Parcel_DB.parcel_id[i], 'filename'] = filename\n",
    "    # send parcel status update to respective customer via messenger app WeChat\n",
    "    # send parcel_id, together with resultimage (filename)\n",
    "    \n",
    "    # Update admin, together with CSV file\n",
    "    \n",
    "    print('=== Parcel status update completed ===\\n')"
   ]
  },
  {
   "cell_type": "code",
   "execution_count": 30,
   "metadata": {},
   "outputs": [
    {
     "data": {
      "text/html": [
       "<div>\n",
       "<style scoped>\n",
       "    .dataframe tbody tr th:only-of-type {\n",
       "        vertical-align: middle;\n",
       "    }\n",
       "\n",
       "    .dataframe tbody tr th {\n",
       "        vertical-align: top;\n",
       "    }\n",
       "\n",
       "    .dataframe thead th {\n",
       "        text-align: right;\n",
       "    }\n",
       "</style>\n",
       "<table border=\"1\" class=\"dataframe\">\n",
       "  <thead>\n",
       "    <tr style=\"text-align: right;\">\n",
       "      <th></th>\n",
       "      <th>sn</th>\n",
       "      <th>name</th>\n",
       "      <th>parcel_id</th>\n",
       "      <th>messenger_id</th>\n",
       "      <th>filename</th>\n",
       "      <th>status</th>\n",
       "      <th>status_text</th>\n",
       "    </tr>\n",
       "  </thead>\n",
       "  <tbody>\n",
       "    <tr>\n",
       "      <th>0</th>\n",
       "      <td>1</td>\n",
       "      <td>Sam</td>\n",
       "      <td>DZ140053180NZ</td>\n",
       "      <td>NaN</td>\n",
       "      <td>results\\DZ140053180NZ-2019-07-24-18m18m42s.png</td>\n",
       "      <td>NaN</td>\n",
       "      <td>NaN</td>\n",
       "    </tr>\n",
       "    <tr>\n",
       "      <th>1</th>\n",
       "      <td>2</td>\n",
       "      <td>DiDi</td>\n",
       "      <td>DZ140053182NZ</td>\n",
       "      <td>NaN</td>\n",
       "      <td>results\\DZ140053182NZ-2019-07-24-18m19m05s.png</td>\n",
       "      <td>NaN</td>\n",
       "      <td>NaN</td>\n",
       "    </tr>\n",
       "  </tbody>\n",
       "</table>\n",
       "</div>"
      ],
      "text/plain": [
       "   sn  name      parcel_id  messenger_id  \\\n",
       "0   1   Sam  DZ140053180NZ           NaN   \n",
       "1   2  DiDi  DZ140053182NZ           NaN   \n",
       "\n",
       "                                         filename  status  status_text  \n",
       "0  results\\DZ140053180NZ-2019-07-24-18m18m42s.png     NaN          NaN  \n",
       "1  results\\DZ140053182NZ-2019-07-24-18m19m05s.png     NaN          NaN  "
      ]
     },
     "execution_count": 30,
     "metadata": {},
     "output_type": "execute_result"
    }
   ],
   "source": [
    "# Updated file names are seen:\n",
    "Parcel_DB.head()"
   ]
  },
  {
   "cell_type": "markdown",
   "metadata": {},
   "source": [
    "---"
   ]
  },
  {
   "cell_type": "markdown",
   "metadata": {},
   "source": [
    "### Web-Parcel-Bot-Python \n",
    "#### 2. Visual Automation method (experiment in progress)"
   ]
  },
  {
   "cell_type": "code",
   "execution_count": null,
   "metadata": {
    "scrolled": true
   },
   "outputs": [],
   "source": [
    "# Sikuli seems malfunction in python jupyter notebook\n",
    "\n",
    "t.init(visual_automation = True)\n",
    "# t.click('Web-Parcel-Bot\\resources\\png-iss-vm-chrome.png')\n",
    "t.url('http://qexpress.co.nz')\n",
    "t.wait(5)\n",
    "# t.type('page.png', 'http://qexpress.co.nz')\n",
    "# t.wait(2.5)\n",
    "t.click('enquiry_box.png')\n",
    "t.wait(2.5)\n",
    "t.type('page.png', 'DZ140053180NZ')\n",
    "t.wait(2.5)\n",
    "t.snap('page.png', 'Web-Parcel-Bot-Python\\results01.png')\n",
    "t.wait(2.5)\n",
    "t.click('enquiry_button_search.png')\n",
    "t.wait(2.5)\n",
    "t.snap('page.png', 'Web-Parcel-Bot-Python\\results02.png')\n",
    "t.wait(2.5)\n",
    "t.keyboard('[end]')\n",
    "t.snap('page.png', 'Web-Parcel-Bot-Python\\results03.png')\n",
    "t.wait(2.5)\n",
    "# t.click('Web-Parcel-Bot\\resources\\png-ubuntu-close.png')\n",
    "# t.wait(2.5)\n",
    "t.close()"
   ]
  },
  {
   "cell_type": "markdown",
   "metadata": {},
   "source": [
    "---"
   ]
  },
  {
   "cell_type": "markdown",
   "metadata": {},
   "source": [
    "### The END"
   ]
  }
 ],
 "metadata": {
  "kernelspec": {
   "display_name": "Python 3",
   "language": "python",
   "name": "python3"
  },
  "language_info": {
   "codemirror_mode": {
    "name": "ipython",
    "version": 3
   },
   "file_extension": ".py",
   "mimetype": "text/x-python",
   "name": "python",
   "nbconvert_exporter": "python",
   "pygments_lexer": "ipython3",
   "version": "3.6.4"
  }
 },
 "nbformat": 4,
 "nbformat_minor": 2
}
