{
 "cells": [
  {
   "cell_type": "markdown",
   "metadata": {},
   "source": [
    "### NICF- Intelligent Process Automation (SF)\n",
    "\n",
    "https://www.iss.nus.edu.sg/executive-education/course/detail/intelligent-process-automation/artificial-intelligence\n",
    "\n",
    "# Workshop: Text Summarization\n",
    "\n",
    "### <span style=\"color:red\">Runs in python 2.7</span>"
   ]
  },
  {
   "cell_type": "code",
   "execution_count": 1,
   "metadata": {},
   "outputs": [],
   "source": [
    "# !pip install pyteaser"
   ]
  },
  {
   "cell_type": "markdown",
   "metadata": {},
   "source": [
    "### Import library\n",
    "https://github.com/xiaoxu193/PyTeaser"
   ]
  },
  {
   "cell_type": "code",
   "execution_count": 2,
   "metadata": {},
   "outputs": [],
   "source": [
    "from pyteaser import Summarize, SummarizeUrl"
   ]
  },
  {
   "cell_type": "markdown",
   "metadata": {},
   "source": [
    "### Summerize single web article"
   ]
  },
  {
   "cell_type": "code",
   "execution_count": 3,
   "metadata": {},
   "outputs": [
    {
     "name": "stderr",
     "output_type": "stream",
     "text": [
      "/home/iss-user/anaconda3/envs/iss-env-py2/lib/python2.7/site-packages/BeautifulSoup.py:114: UserWarning: You are using a very old release of Beautiful Soup, last updated in 2011. If you installed the 'beautifulsoup' package through pip, you should know the 'beautifulsoup' package name is about to be reclaimed by a more recent version of Beautiful Soup which is incompatible with this version.\n",
      "\n",
      "This will happen at some point after January 1, 2021.\n",
      "\n",
      "If you just started this project, this is easy to fix. Install the 'beautifulsoup4' package instead of 'beautifulsoup' and start using Beautiful Soup 4.\n",
      "\n",
      "If this is an existing project that depends on Beautiful Soup 3, the project maintainer (potentially you) needs to start the process of migrating to Beautiful Soup 4. This should be a relatively easy part of the Python 3 migration.\n",
      "\n",
      "  \"\"\")\n"
     ]
    },
    {
     "name": "stdout",
     "output_type": "stream",
     "text": [
      "Companies looking to boost their digitalisation efforts will now be able to benefit from three new programmes that collectively target workers across all levels of a business.\n",
      "\n",
      "The courses aim to equip them with the mindset and know-how needed to map out an effective digitalisation strategy for their firms.\n",
      "\n",
      "The programmes are expected to kick off early next year and are open to SBF members.\n",
      "\n",
      "Depending on each company's needs, NUS-ISS will then work with them to roll out specific training programmes for their employees.\n",
      "\n",
      "The programmes will be offered by the Singapore Business Federation (SBF) and the Institute of Systems Science at National University of Singapore (NUS-ISS), with the two organisations signing a memorandum of understanding yesterday.\n",
      "\n"
     ]
    }
   ],
   "source": [
    "# NUS-ISS\n",
    "# The Straits Times: 3 new programmes to help firms boost digitalisation efforts\n",
    "url = 'https://www.straitstimes.com/tech/3-new-programmes-to-help-firms-boost-digitalisation-efforts'\n",
    "summaries = SummarizeUrl(url)\n",
    "for sentence in summaries:\n",
    "    print sentence\n",
    "    print ''"
   ]
  },
  {
   "cell_type": "markdown",
   "metadata": {},
   "source": [
    "### Summerize mutiple web articles"
   ]
  },
  {
   "cell_type": "code",
   "execution_count": 4,
   "metadata": {},
   "outputs": [
    {
     "name": "stdout",
     "output_type": "stream",
     "text": [
      "url :  https://www.straitstimes.com/tech/3-new-programmes-to-help-firms-boost-digitalisation-efforts\n",
      "[u'Companies looking to boost their digitalisation efforts will now be able to benefit from three new programmes that collectively target workers across all levels of a business.',\n",
      " u'The courses aim to equip them with the mindset and know-how needed to map out an effective digitalisation strategy for their firms.']\n",
      "\n",
      "url :  http://www.huffingtonpost.com/2013/11/22/twitter-forward-secrecy_n_4326599.html\n",
      "[u\"Twitter's move is the latest response from U.S. Internet firms following disclosures by former spy agency contractor Edward Snowden about widespread, classified U.S. government surveillance programs.\",\n",
      " u'\"Since then, it has become clearer and clearer how important that step was to protecting our users\\' privacy.\"']\n",
      "\n",
      "url :  http://www.bbc.co.uk/news/world-europe-30035666\n",
      "[u'Police, fire officials and a specially-trained hunting dog are searching for a big cat - believed to be a tiger - seen in a town outside Paris.',\n",
      " u'A woman alerted officials after spotting the animal in a supermarket car park in Montevrain, east of the French capital.']\n",
      "\n",
      "url :  http://www.bbc.co.uk/news/magazine-29631332\n",
      "[u'The collected ocean plastic would be recycled and made into products - or oil.',\n",
      " u\"Boyan Slat is a 20-year-old on a mission - to rid the world's oceans of floating plastic.\"]\n",
      "\n"
     ]
    }
   ],
   "source": [
    "from pyteaser import SummarizeUrl\n",
    "from pprint import pprint\n",
    "urls = (u'https://www.straitstimes.com/tech/3-new-programmes-to-help-firms-boost-digitalisation-efforts',\n",
    "        u'http://www.huffingtonpost.com/2013/11/22/twitter-forward-secrecy_n_4326599.html',\n",
    "        u'http://www.bbc.co.uk/news/world-europe-30035666',\n",
    "        u'http://www.bbc.co.uk/news/magazine-29631332'        \n",
    "       )\n",
    "\n",
    "for url in urls:\n",
    "    print 'url : ', url\n",
    "    summaries = SummarizeUrl(url)\n",
    "    pprint(summaries[0:2])\n",
    "    print ''\n"
   ]
  },
  {
   "cell_type": "code",
   "execution_count": 5,
   "metadata": {},
   "outputs": [
    {
     "data": {
      "text/plain": [
       "u'The collected ocean plastic would be recycled and made into products - or oil.'"
      ]
     },
     "execution_count": 5,
     "metadata": {},
     "output_type": "execute_result"
    }
   ],
   "source": [
    "summaries[0]"
   ]
  },
  {
   "cell_type": "code",
   "execution_count": null,
   "metadata": {},
   "outputs": [],
   "source": []
  },
  {
   "cell_type": "markdown",
   "metadata": {},
   "source": [
    "### Summerize local textual article"
   ]
  },
  {
   "cell_type": "markdown",
   "metadata": {},
   "source": [
    "#### Example from https://www.straitstimes.com/tech/3-new-programmes-to-help-firms-boost-digitalisation-efforts"
   ]
  },
  {
   "cell_type": "code",
   "execution_count": 6,
   "metadata": {},
   "outputs": [],
   "source": [
    "article_title = u'3 new programmes to help firms boost digitalisation efforts'\n"
   ]
  },
  {
   "cell_type": "code",
   "execution_count": 7,
   "metadata": {},
   "outputs": [],
   "source": [
    "article_text = u'Companies looking to boost their digitalisation efforts will now be able to benefit from three new programmes that collectively target workers across all levels of a business. The programmes will be offered by the Singapore Business Federation (SBF) and the Institute of Systems Science at National University of Singapore (NUS-ISS), with the two organisations signing a memorandum of understanding yesterday. Business owners and leaders can sign up for the Digital Competency Roadmap comprising three courses over five days. The courses aim to equip them with the mindset and know-how needed to map out an effective digitalisation strategy for their firms. There is also a longer five-course, 13-day variant for employees at the executive level. Executives who wish to take their classroom learning further can also work towards a Professional Diploma in Digitalisation jointly awarded by SBF and NUS-ISS. This programme will include a four-month project, in which experts from NUS-ISS will guide participants to apply what they have learnt when they are back in their own companies. The last programme, called Skills for Transformation, is targeted at companies that have already started on their digital transformations. Depending on each company\\'s needs, NUS-ISS will then work with them to roll out specific training programmes for their employees. The programmes were announced by Minister of State for National Development and Manpower Zaqy Mohamad at the Suntec Singapore Convention and Exhibition Centre during the opening ceremony of SBF\\'s Future Economy Conference and Exhibition. \"Transformation is an ongoing journey. For companies that have started, you must press on and continue to look out for new opportunities... For those that have yet to start, I encourage you to do so now,\" he said. The programmes are expected to kick off early next year and are open to SBF members. Those interested in finding out more can attend a 9.30am briefing at the SBF Centre on Nov 20 or register their interest at https://nus.edu/2oNvhfI The programmes are targeted mainly at companies from the retail, logistics, food and beverage, manufacturing and built environment sectors, but SBF is open to considering companies from other industries, said its assistant chief executive Joanne Guo. She added that SkillsFuture subsidies will offset programme costs by up to 90 per cent for small and medium-sized enterprises (SMEs) and 70 per cent for non-SMEs. Mr Zaqy also also provided an update on the Infocomm Media Development Authority\\'s Digital Acceleration Index (DAI), revealing that more than 2,000 companies have used the index since its launch earlier this year. The DAI is a self-diagnostic tool that gauges how far along companies are in their digital transformation and provides insights into their digital strengths and weaknesses. The next window for registration will open in January.'\n"
   ]
  },
  {
   "cell_type": "code",
   "execution_count": 8,
   "metadata": {
    "scrolled": true
   },
   "outputs": [
    {
     "name": "stdout",
     "output_type": "stream",
     "text": [
      "<< 3 new programmes to help firms boost digitalisation efforts >>\n",
      "\n",
      "Companies looking to boost their digitalisation efforts will now be able to benefit from three new programmes that collectively target workers across all levels of a business.\n",
      "\n",
      "The courses aim to equip them with the mindset and know-how needed to map out an effective digitalisation strategy for their firms.\n",
      "\n",
      "The DAI is a self-diagnostic tool that gauges how far along companies are in their digital transformation and provides insights into their digital strengths and weaknesses.\n",
      "\n",
      "The programmes are expected to kick off early next year and are open to SBF members.\n",
      "\n",
      "Depending on each company's needs, NUS-ISS will then work with them to roll out specific training programmes for their employees.\n",
      "\n"
     ]
    }
   ],
   "source": [
    "print '<<', article_title, '>>\\n'\n",
    "summaries = Summarize(article_title, article_text)\n",
    "for sentence in summaries:\n",
    "    print sentence\n",
    "    print ''"
   ]
  },
  {
   "cell_type": "code",
   "execution_count": 9,
   "metadata": {},
   "outputs": [
    {
     "name": "stdout",
     "output_type": "stream",
     "text": [
      "[ most important sentence ]\n",
      "Companies looking to boost their digitalisation efforts will now be able to benefit from three new programmes that collectively target workers across all levels of a business.\n"
     ]
    }
   ],
   "source": [
    "print '[ most important sentence ]\\n', summaries[0]"
   ]
  },
  {
   "cell_type": "markdown",
   "metadata": {},
   "source": [
    "#### Example from https://www.iss.nus.edu.sg/executive-education/course/detail/intelligent-process-automation/artificial-intelligence"
   ]
  },
  {
   "cell_type": "code",
   "execution_count": 10,
   "metadata": {},
   "outputs": [],
   "source": [
    "article_title = u'NICF- Intelligent Process Automation (SF)'\n"
   ]
  },
  {
   "cell_type": "code",
   "execution_count": 11,
   "metadata": {},
   "outputs": [],
   "source": [
    "article_text = u'Overview. This 3-day course enables participants to create intelligent virtual workers (intelligent agent) able to mimic real person to take business related actions and procedures by operating a computer and computer applications, in various business processes and industry domains. Participants learn practical knowledge of intelligent agent (IA), artificial intelligence (AI), open source toolsets, and computer scripting skills to design and create intelligent virtual workers as a minimal viable product (MVP) to automate business processes. Application examples are: Virtual employee for account management, e.g. mortgage loan application, invoice processing; Interactive messaging/chat-bot for customer service; request fulfillment; frequently asked questions; Intelligent software agents in research, innovation and video game industry; This course can benefit job roles such as Automation Managers, Enterprise Architects, Application Solution Architects, System Integrator, Technology Consultants, Senior Process Analysts, Senior Process Engineers, and working professionals who intend to design, develop, implement and evaluate various applications of cognitive robotic process automation with artificial intelligence. Participants will benefit from a careful balance of lectures and practical workshops. Some of the topics covered include concepts and techniques of robotic process automation; artificial intelligence fundamentals; enterprise system integration; email automation; AI processing of image, speech, language, sentiment analysis; and interactive conversational virtual worker/assistant. There will be projects and assessment to reinforce participants’ learning as part of the course. This course is a part of Graduate Certificate in Intelligent Software Agents, which is a part of the Stackable Graduate Certificate Programme in Artificial Intelligent Systems offered by NUS-ISS. Key Takeaways. Upon completion of the course, students will be able to: Identify enterprise business use cases and applications to implement intelligent process automation (IPA), leveraging technologies of intelligent software agent and process automation. Evaluate intelligent process automation techniques, including desktop automation, web automation, visual user interface automation, spoken language and written document understanding, sentiment analysis, image text extraction, customer face detection, customer speech recognition, task agent interaction and automation through voice commands. Architect IPA applications useful to learner’s organization using tools: E.g. Virtual workers/assistants for customer care. E.g. Enterprise visual and user interface automation applications using artificial intelligence, chat-bot, and computer scripting for mortgage application automation. E.g. Reinforcement learning agent for research, innovation and video game industry. Develop IPA Minimum Viable Product (MVP). Who Should Attend. This course is suitable for both information technology and non-IT professionals who are interested in creating intelligent robots, or virtual workers, able to mimic real personnel to automatically take business related actions and procedures by operating a computer, in various business processes and industry domains. This course will be useful for: Automation Manager who want to improve personnel productivity. Enterprise Architects & Application Solution Architects who want to integrate intelligent process automation into their solution. System Integrators & Technology Consultants who want to use this technology for system integration. Senior Process Analysts & Senior Process Engineers who want to customize, configure and use virtual worker. Robotic Process Automation practitioners who want to leverage artificial intelligence technology. Prerequisites. This is a intermediate course involves rapid prototyping using several computer programing, e.g. graphical programming, JavaScript, python, APIs, and cloud computing. Participants with prior computer programming experiences would benefit more during hands-on workshops and project submission as part of course assessment. Participants should preinstall and successfully run iss-vm virtual machine (about 30 GB in size) into their own device before course start date. Participants should have basic computer literacy and software engineering fundamentals, e.g. using Windows or Linux or MacOS, Internet, Email, Spreadsheet, VMware or VirtualBox, and aware of cloud computing, application programming interface (API), and client-server software architecture. Participants should have basic hands-on coding experience in one or more high-level computer programming languages, preferable in JavaScript and Python. Basic knowledge of pattern recognition at the level of NICF- Problem Solving using Pattern Recognition (SF). Note: Participants are required to bring their own internet enabled computing device (laptops, tablet etc) & power charger to access and download electronic courseware in PDF format. We will be only be providing courseware in PDF and will not issue any printed copies.'\n"
   ]
  },
  {
   "cell_type": "code",
   "execution_count": 12,
   "metadata": {},
   "outputs": [
    {
     "name": "stdout",
     "output_type": "stream",
     "text": [
      "<< NICF- Intelligent Process Automation (SF) >>\n",
      "\n",
      "Evaluate intelligent process automation techniques, including desktop automation, web automation, visual user interface automation, spoken language and written document understanding, sentiment analysis, image text extraction, customer face detection, customer speech recognition, task agent interaction and automation through voice commands.\n",
      "\n",
      "Upon completion of the course, students will be able to: Identify enterprise business use cases and applications to implement intelligent process automation (IPA), leveraging technologies of intelligent software agent and process automation.\n",
      "\n",
      "Enterprise Architects & Application Solution Architects who want to integrate intelligent process automation into their solution.\n",
      "\n",
      "Some of the topics covered include concepts and techniques of robotic process automation; artificial intelligence fundamentals; enterprise system integration; email automation; AI processing of image, speech, language, sentiment analysis; and interactive conversational virtual worker/assistant.\n",
      "\n",
      "Enterprise visual and user interface automation applications using artificial intelligence, chat-bot, and computer scripting for mortgage application automation.\n",
      "\n"
     ]
    }
   ],
   "source": [
    "print '<<', article_title, '>>\\n'\n",
    "summaries = Summarize(article_title, article_text)\n",
    "for sentence in summaries:\n",
    "    print sentence\n",
    "    print ''"
   ]
  },
  {
   "cell_type": "code",
   "execution_count": 13,
   "metadata": {},
   "outputs": [
    {
     "name": "stdout",
     "output_type": "stream",
     "text": [
      "[ most important sentence ]\n",
      "Evaluate intelligent process automation techniques, including desktop automation, web automation, visual user interface automation, spoken language and written document understanding, sentiment analysis, image text extraction, customer face detection, customer speech recognition, task agent interaction and automation through voice commands.\n"
     ]
    }
   ],
   "source": [
    "print '[ most important sentence ]\\n', summaries[0]"
   ]
  },
  {
   "cell_type": "markdown",
   "metadata": {},
   "source": [
    "---"
   ]
  },
  {
   "cell_type": "markdown",
   "metadata": {},
   "source": [
    "## <span style=\"color:red\">Your Exercise:</span> \n",
    "\n",
    "## Apply the text summarization technology to summarize textual data, e.g. emails, customer feedbacks, news articles, competitor web pages.\n"
   ]
  },
  {
   "cell_type": "code",
   "execution_count": null,
   "metadata": {},
   "outputs": [],
   "source": []
  },
  {
   "cell_type": "code",
   "execution_count": null,
   "metadata": {},
   "outputs": [],
   "source": []
  },
  {
   "cell_type": "code",
   "execution_count": null,
   "metadata": {},
   "outputs": [],
   "source": []
  },
  {
   "cell_type": "code",
   "execution_count": null,
   "metadata": {},
   "outputs": [],
   "source": []
  },
  {
   "cell_type": "markdown",
   "metadata": {},
   "source": [
    "---"
   ]
  }
 ],
 "metadata": {
  "kernelspec": {
   "display_name": "Python 2",
   "language": "python",
   "name": "python2"
  },
  "language_info": {
   "codemirror_mode": {
    "name": "ipython",
    "version": 2
   },
   "file_extension": ".py",
   "mimetype": "text/x-python",
   "name": "python",
   "nbconvert_exporter": "python",
   "pygments_lexer": "ipython2",
   "version": "2.7.14"
  }
 },
 "nbformat": 4,
 "nbformat_minor": 2
}
