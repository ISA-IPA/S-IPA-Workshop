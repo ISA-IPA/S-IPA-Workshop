{
 "cells": [
  {
   "cell_type": "markdown",
   "metadata": {},
   "source": [
    "<div class=\"alert alert-block alert-info\" style=\"margin-top: 20px\">\n",
    "    <a href=\"https://github.com/isa-ipa\">\n",
    "        <img src=\"\" width=\"60\" align=\"right\">\n",
    "     </a>\n",
    "     <h1>\n",
    "         Intelligent Agent Workshop: Virtual Assistant: Job & Cover Letter\n",
    "     </h1>\n",
    "</div>"
   ]
  },
  {
   "cell_type": "markdown",
   "metadata": {},
   "source": [
    "## Agenda:\n",
    "\n",
    "\n",
    "In this workshop, we are to build a JobApplicationAssistant which will monitor \"Job Opportunities\" email from the provided email. Based on the user's \"Resume/CV\" and job desciption, the agent can generate tailored cover letters for job appication.\n",
    "    \n",
    "- Prepare Environment\n",
    "\n",
    "- Recap of web based image search\n",
    "\n",
    "- Virtual Assistant for Job Applicatio & Cover Letter\n",
    "\n",
    "    - Exercise 1: Get all the \"job opportunites\" related link from the email\n",
    "    - Using Local AI Components (NLP) to generate the coverletter\n",
    "    - Exercise 2: using python script sendback the application emails\n",
    "    - Exercise 3: Using TagUI-Python sendback the application emails\n"
   ]
  },
  {
   "cell_type": "markdown",
   "metadata": {},
   "source": [
    "<div class=\"alert alert-info alertdanger\" style=\"margin-top: 20px\">\n",
    "    <h1>\n",
    "         Prepare Environment\n",
    "    </h1>\n",
    "</div>"
   ]
  },
  {
   "cell_type": "markdown",
   "metadata": {},
   "source": [
    "## 1.  Prepare system level environment\n",
    "\n",
    "1. If you are using the ISS-VM and you also open this notebook with iss-env-py3\n",
    "    The environment is already prepared. Please go through the notebook to learn how to use tagui and do some demo application.\n",
    "2. To download ISS-VM from: https://github.com/telescopeuser/iss-vm\n",
    "3. Install the Chrome"
   ]
  },
  {
   "cell_type": "code",
   "execution_count": 2,
   "metadata": {},
   "outputs": [],
   "source": [
    "# Please uncomment and copy the below line into the Terminal to install the requirements\n",
    "# Don't forget to change the conda environment where you use to open this notebook\n",
    "\n",
    "# For ISS-VM user, open terminal, key in: \n",
    "# source activate iss-env-py3\n",
    "# sudo bash ./prepare.sh"
   ]
  },
  {
   "cell_type": "markdown",
   "metadata": {},
   "source": [
    "## 2. Prepare notebook environment"
   ]
  },
  {
   "cell_type": "markdown",
   "metadata": {},
   "source": [
    "For this workshop, we will introduce the TagUI(https://github.com/kelaberetiv/TagUI) as the RPA tools(robotic process automation) and use TagUI-Python(https://github.com/tebelorg/RPA-Python) to do some application to help you understand the how the RPA work and how to use it in the real world task\n",
    "\n",
    "*tip: the TagUI-Python now also is called RPA-python the Rename Detail is here https://github.com/tebelorg/RPA-Python/issues/100"
   ]
  },
  {
   "cell_type": "markdown",
   "metadata": {},
   "source": [
    "TagUI:\n",
    "    - TagUI is a command-line tool for digital process automation (RPA)\n",
    "    - automate Chrome in visible / invisible mode\n",
    "    - visual automation of websites and desktop\n",
    "    - write in 20+ human languages & JavaScript\n",
    "    - Chrome extension for recording web actions\n",
    "    - Python & R integrations for machine learning"
   ]
  },
  {
   "cell_type": "code",
   "execution_count": 3,
   "metadata": {
    "scrolled": true
   },
   "outputs": [
    {
     "name": "stdout",
     "output_type": "stream",
     "text": [
      "Collecting rpa\n",
      "  Downloading https://files.pythonhosted.org/packages/22/f7/6437d21b06e5bdd78878b596c1fd88ae4723e7f61c5ae703cb5de5b8ea20/rpa-1.26.0.tar.gz\n",
      "Collecting sklearn\n",
      "  Downloading https://files.pythonhosted.org/packages/1e/7a/dbb3be0ce9bd5c8b7e3d87328e79063f8b263b2b1bfa4774cb1147bfcd3f/sklearn-0.0.tar.gz\n",
      "Requirement already satisfied: nltk in /home/iss-user/anaconda3/envs/iss-env-py3/lib/python3.6/site-packages (3.4.5)\n",
      "Requirement already satisfied: lxml in /home/iss-user/anaconda3/envs/iss-env-py3/lib/python3.6/site-packages (4.0.0)\n",
      "Requirement already satisfied: pystemmer in /home/iss-user/anaconda3/envs/iss-env-py3/lib/python3.6/site-packages (1.3.0)\n",
      "Collecting tagui>=1.26.0\n",
      "  Downloading https://files.pythonhosted.org/packages/6c/d5/7d0bb088920ddd6d57787c9859479ec53d2d7a71fceb193708e9253e926a/tagui-1.26.0.tar.gz\n",
      "Requirement already satisfied: scikit-learn in /home/iss-user/anaconda3/envs/iss-env-py3/lib/python3.6/site-packages (from sklearn) (0.21.3)\n",
      "Requirement already satisfied: six in /home/iss-user/anaconda3/envs/iss-env-py3/lib/python3.6/site-packages (from nltk) (1.13.0)\n",
      "Requirement already satisfied: scipy>=0.17.0 in /home/iss-user/anaconda3/envs/iss-env-py3/lib/python3.6/site-packages (from scikit-learn->sklearn) (1.3.2)\n",
      "Requirement already satisfied: numpy>=1.11.0 in /home/iss-user/anaconda3/envs/iss-env-py3/lib/python3.6/site-packages (from scikit-learn->sklearn) (1.17.4)\n",
      "Requirement already satisfied: joblib>=0.11 in /home/iss-user/anaconda3/envs/iss-env-py3/lib/python3.6/site-packages (from scikit-learn->sklearn) (0.14.0)\n",
      "Building wheels for collected packages: rpa, sklearn, tagui\n",
      "  Building wheel for rpa (setup.py) ... \u001b[?25ldone\n",
      "\u001b[?25h  Created wheel for rpa: filename=rpa-1.26.0-cp36-none-any.whl size=6143 sha256=71ae931ffe0e5a24b47e343790b02bef18580f3b7a3896abe6bbdaa1af69d68d\n",
      "  Stored in directory: /home/iss-user/.cache/pip/wheels/c1/8e/10/be7f9e62b702f48fd3b7d10a54eb94edd9a39addcd4ec26d02\n",
      "  Building wheel for sklearn (setup.py) ... \u001b[?25ldone\n",
      "\u001b[?25h  Created wheel for sklearn: filename=sklearn-0.0-py2.py3-none-any.whl size=1316 sha256=eb7e421c550a6064f03357edf0cc7e97a1aa2d12dddecb03ffc096df4e28d904\n",
      "  Stored in directory: /home/iss-user/.cache/pip/wheels/76/03/bb/589d421d27431bcd2c6da284d5f2286c8e3b2ea3cf1594c074\n",
      "  Building wheel for tagui (setup.py) ... \u001b[?25ldone\n",
      "\u001b[?25h  Created wheel for tagui: filename=tagui-1.26.0-cp36-none-any.whl size=18104 sha256=d0ba3d333d00a6d99e23e4e2fc9bb60d1a2af3aec56d9809e29b2dff633163e4\n",
      "  Stored in directory: /home/iss-user/.cache/pip/wheels/0a/c8/7c/dacf8d2fb77d82fe469cb8273ac4817687fe45a58ec4b1742b\n",
      "Successfully built rpa sklearn tagui\n",
      "Installing collected packages: tagui, rpa, sklearn\n",
      "  Found existing installation: tagui 1.18.0\n",
      "    Uninstalling tagui-1.18.0:\n",
      "      Successfully uninstalled tagui-1.18.0\n",
      "Successfully installed rpa-1.26.0 sklearn-0.0 tagui-1.26.0\n"
     ]
    }
   ],
   "source": [
    "# Please uncomment and press shift+enter to install some requirements\n",
    "!pip install rpa sklearn nltk lxml pystemmer"
   ]
  },
  {
   "cell_type": "code",
   "execution_count": 4,
   "metadata": {},
   "outputs": [],
   "source": [
    "from IPython.display import display, Markdown, Latex\n",
    "import codehelper"
   ]
  },
  {
   "cell_type": "markdown",
   "metadata": {},
   "source": [
    "### Optionally, change the sourcecode of tagui command-line to launch the chrome in the incognito model to prevent some login issue"
   ]
  },
  {
   "cell_type": "code",
   "execution_count": 5,
   "metadata": {},
   "outputs": [],
   "source": [
    "# set \"incognito mode\"\n",
    "!sed -i 's/chrome_started=\"$(uname -s)\"; chrome_switches=\"--user-data-dir=chrome\\/tagui_user_profile --remote-debugging-port=9222 about:blank\"/chrome_started=\"$(uname -s)\"; chrome_switches=\"--user-data-dir=chrome\\/tagui_user_profile --remote-debugging-port=9222 -incognito about:blank\"/g' ~/.tagui/src/tagui\n",
    "\n",
    "# set \"normal mode\"\n",
    "# !sed -i 's/chrome_started=\"$(uname -s)\"; chrome_switches=\"--user-data-dir=chrome\\/tagui_user_profile --remote-debugging-port=9222 -incognito about:blank\"/chrome_started=\"$(uname -s)\"; chrome_switches=\"--user-data-dir=chrome\\/tagui_user_profile --remote-debugging-port=9222 about:blank\"/g' ~/.tagui/src/tagui\n"
   ]
  },
  {
   "cell_type": "markdown",
   "metadata": {},
   "source": [
    "<div class=\"alert alert-info alertdanger\" style=\"margin-top: 20px\">\n",
    "    <h1>\n",
    "         Recap of web based image search\n",
    "    </h1>\n",
    "    <p>\n",
    "        Recall the \"use the Bing Image Search to search the related image\" task in previous workshop\n",
    "    </p>\n",
    "</div>"
   ]
  },
  {
   "cell_type": "code",
   "execution_count": 6,
   "metadata": {},
   "outputs": [],
   "source": [
    "# Write your code from here:\n"
   ]
  },
  {
   "cell_type": "markdown",
   "metadata": {},
   "source": [
    "---"
   ]
  },
  {
   "cell_type": "code",
   "execution_count": 7,
   "metadata": {},
   "outputs": [],
   "source": [
    "# import rpa as t for the new vision of TagUI same function just different name\n",
    "import tagui as t"
   ]
  },
  {
   "cell_type": "code",
   "execution_count": 8,
   "metadata": {},
   "outputs": [
    {
     "name": "stdout",
     "output_type": "stream",
     "text": [
      "[RPA][ERROR] - use init() before using close()\n"
     ]
    },
    {
     "data": {
      "text/plain": [
       "False"
      ]
     },
     "execution_count": 8,
     "metadata": {},
     "output_type": "execute_result"
    }
   ],
   "source": [
    "t.close()"
   ]
  },
  {
   "cell_type": "code",
   "execution_count": 9,
   "metadata": {},
   "outputs": [],
   "source": [
    "target_image = 'exercise_3/sample.jpg'"
   ]
  },
  {
   "cell_type": "code",
   "execution_count": null,
   "metadata": {},
   "outputs": [],
   "source": [
    "t.init()\n",
    "t.url('https://www.bing.com/?scope=images&nr=1&FORM=NOFORM')\n",
    "t.???('//div[@id=\"???\"]')\n",
    "t.???(\"input.fileinput\",target_image)\n",
    "t.wait(3)\n",
    "t.click('//???[contains(string(),\"Similar\")]')\n",
    "image_nums = t.???('//a[@class=\"???\"]')\n",
    "limitation = 3\n",
    "for i in range(1,image_nums):\n",
    "    if i <= 3:\n",
    "        url = t.read(f'(//a[@class=\"richImgLnk\"])[{i}]/img/@src')\n",
    "        t.download(url,'exercise_3/' + 'similar_'+str(i)+'.png')\n",
    "t.close()"
   ]
  },
  {
   "cell_type": "code",
   "execution_count": 11,
   "metadata": {},
   "outputs": [
    {
     "data": {
      "text/markdown": [
       "![Similar](exercise_3/similar_1.png)"
      ],
      "text/plain": [
       "<IPython.core.display.Markdown object>"
      ]
     },
     "metadata": {},
     "output_type": "display_data"
    }
   ],
   "source": [
    "display(Markdown('![Similar](exercise_3/similar_1.png)'))"
   ]
  },
  {
   "cell_type": "code",
   "execution_count": 12,
   "metadata": {},
   "outputs": [],
   "source": [
    "# Uncommnet below, then press Shift+Enter for solution\n",
    "# codehelper.hint_for_ipa_recap_one()"
   ]
  },
  {
   "cell_type": "markdown",
   "metadata": {},
   "source": [
    "## Summary\n",
    "Great recap! Let's now deep drive in the this process\n",
    "- 1. we upload a image\n",
    "- 2. Bing get the image file and do some magic process, then back the result\n",
    "- 3. we download top threes similar images\n",
    "\n",
    "Intelligent process automation process\n",
    "- We use tagui-bot to upload and download the image;\n",
    "- We use tagui-bot to retrieve similar image from Bing Image Search;\n"
   ]
  },
  {
   "cell_type": "markdown",
   "metadata": {},
   "source": [
    "<div class=\"alert alert-info alertdanger\" style=\"margin-top: 20px\">\n",
    "    <h1>\n",
    "       Virtual Assistant\n",
    "    </h1>\n",
    "    <p>\n",
    "       for Job Applicatio & Cover Letter\n",
    "    </p>\n",
    "</div>"
   ]
  },
  {
   "cell_type": "markdown",
   "metadata": {},
   "source": [
    "## IPA Task"
   ]
  },
  {
   "cell_type": "markdown",
   "metadata": {},
   "source": [
    "We are to build a JobApplicationAssistant which will monitor \"Job Opportunities\" email from the provided email. Based on the user's \"Resume/CV\" and job desciption, the agent can generate tailored cover letters for job appication via eamil."
   ]
  },
  {
   "cell_type": "markdown",
   "metadata": {},
   "source": [
    "## IPA Solution"
   ]
  },
  {
   "cell_type": "markdown",
   "metadata": {},
   "source": [
    "### 1. First: Monitor and retieve job opportunities \n",
    "\n",
    "    Get the job description from the target email account\n",
    "        - Login the mail\n",
    "        - Search the job description emails\n",
    "        - Download the job description files\n",
    "        \n",
    "### 2. Second: Write cover letter \n",
    "\n",
    "    Use local AI module to conduct text/language processing and generate the coverletters based on the Job Description and the Resume\n",
    "\n",
    "### 3. Third: Send job application via email \n",
    "\n",
    "    In this part, we use both pure python method and tagui to send the email to the hiring company\n"
   ]
  },
  {
   "cell_type": "markdown",
   "metadata": {},
   "source": [
    "<div class=\"alert alert-success alertdanger\" style=\"margin-top: 20px\">\n",
    "    <h1>\n",
    "        First: Monitor and retieve job opportunities\n",
    "    </h1>\n",
    "    <p>\n",
    "        Get the job description from the target email account\n",
    "    </p>\n",
    "</div>"
   ]
  },
  {
   "cell_type": "markdown",
   "metadata": {},
   "source": [
    "<div class=\"alert alert-danger alertdanger\" style=\"margin-top: 20px\">\n",
    "    <h1>\n",
    "         Workshop Quiz:\n",
    "    </h1>\n",
    "    <p>\n",
    "         Login the target Email Account\n",
    "    </p>\n",
    "    <p>\n",
    "         <b>(Recap earlier IPA workshop Tutorial)</b>\n",
    "    </p>\n",
    "        <p>\n",
    "        <b>Check TagUI-Python functions on TagUI-Python(<a href=\"https://github.com/tebelorg/RPA-Python\">https://github.com/tebelorg/RPA-Python</a>) </b>\n",
    "    </p>\n",
    "</div>"
   ]
  },
  {
   "cell_type": "code",
   "execution_count": 13,
   "metadata": {},
   "outputs": [
    {
     "name": "stdout",
     "output_type": "stream",
     "text": [
      "/media/sf_vm_shared_folder/git/S-IPA-Workshop/workshop2/Virtual-Assistant-Job\n"
     ]
    }
   ],
   "source": [
    "import tagui as t\n",
    "import os\n",
    "\n",
    "CURRENT_PATH = os.getcwd()\n",
    "\n",
    "print(CURRENT_PATH)"
   ]
  },
  {
   "cell_type": "code",
   "execution_count": 14,
   "metadata": {},
   "outputs": [],
   "source": [
    "def hover_and_read(selector):\n",
    "    t.hover(selector)\n",
    "    str = t.read(selector)\n",
    "    return str"
   ]
  },
  {
   "cell_type": "code",
   "execution_count": 15,
   "metadata": {},
   "outputs": [
    {
     "name": "stdout",
     "output_type": "stream",
     "text": [
      "[RPA][ERROR] - use init() before using close()\n"
     ]
    },
    {
     "data": {
      "text/plain": [
       "False"
      ]
     },
     "execution_count": 15,
     "metadata": {},
     "output_type": "execute_result"
    }
   ],
   "source": [
    "t.close()"
   ]
  },
  {
   "cell_type": "code",
   "execution_count": 16,
   "metadata": {},
   "outputs": [],
   "source": [
    "import json\n",
    "\n",
    "email_info = None\n",
    "with open(\"./email_info.json\",'r') as load_f: # Ask lecturer for this ./email_info.json file\n",
    "    email_info = json.load(load_f)\n",
    "    \n",
    "email_info = email_info['1']\n",
    "# email_info"
   ]
  },
  {
   "cell_type": "code",
   "execution_count": 17,
   "metadata": {},
   "outputs": [],
   "source": [
    "# name = \"XU JIACHEN\"\n",
    "# phone = \"+65 93752168\"\n",
    "name = \"Virtual Assistant of Mr. XJC\"\n",
    "phone = \"+65 6601 3161\"\n",
    "\n",
    "# Please uncomment next line please change to your own email address\n",
    "# company_emails = ['liyingxujiachen@gmail.com']\n",
    "company_emails = ['bwbw75@gmail.com']\n",
    "resume_file_path = os.path.join(CURRENT_PATH,\"resume/resume.pdf\")\n",
    "# maybe you chang to your own resume"
   ]
  },
  {
   "cell_type": "code",
   "execution_count": 18,
   "metadata": {},
   "outputs": [],
   "source": [
    "# Write your code from here:\n"
   ]
  },
  {
   "cell_type": "markdown",
   "metadata": {},
   "source": [
    "---"
   ]
  },
  {
   "cell_type": "code",
   "execution_count": 19,
   "metadata": {},
   "outputs": [],
   "source": [
    "# Or use below 'filling the blank' coding template:"
   ]
  },
  {
   "cell_type": "code",
   "execution_count": null,
   "metadata": {},
   "outputs": [],
   "source": [
    "# Write your code below\n",
    "def loginEmail_outlook(email_account,email_pwd):\n",
    "    try:\n",
    "        t.init(visual_automation = True)\n",
    "        t.url('https://login.live.com/login.srf?wa=wsignin1.0&rpsnv=13&ct=1580788659&rver=7.0.6737.0&wp=MBI_SSL&wreply=https%3a%2f%2foutlook.live.com%2fowa%2f%3fnlp%3d1%26RpsCsrfState%3dd234420e-f55a-d62c-a8e6-c1c9a31e4e54&id=292841&aadredir=1&CBCXT=out&lw=1&fl=dob%2cflname%2cwld&cobrandid=90015')\n",
    "        t.type('//???[@name=\"???\"]', email_account + '[enter]')\n",
    "        t.wait(3)\n",
    "        t.type('//input[@???=\"???\"]', email_pwd + '[enter]')\n",
    "        t.wait(3)\n",
    "        if (t.present('//input[@id=\"idBtn_Back\"]')):\n",
    "            t.click('//input[@id=\"idBtn_Back\"]')\n",
    "        t.wait(5)\n",
    "    except:\n",
    "        t.close()"
   ]
  },
  {
   "cell_type": "code",
   "execution_count": 21,
   "metadata": {},
   "outputs": [],
   "source": [
    "try:\n",
    "    loginEmail_outlook(email_info['email'],email_info['password'])\n",
    "finally:\n",
    "    t.close()"
   ]
  },
  {
   "cell_type": "code",
   "execution_count": 22,
   "metadata": {},
   "outputs": [],
   "source": [
    "# Uncommnet below, then press Shift+Enter for solution\n",
    "# codehelper.hint_for_ipa_recap_two()"
   ]
  },
  {
   "cell_type": "markdown",
   "metadata": {},
   "source": [
    "<div class=\"alert alert-danger alertdanger\" style=\"margin-top: 20px\">\n",
    "    <h1>\n",
    "         Workshop Quiz:\n",
    "    </h1>\n",
    "    <p>\n",
    "         Download the Job Description files from email being monitored(After login)\n",
    "    </p>\n",
    "            <p>\n",
    "        <b>Check TagUI-Python functions on TagUI-Python(<a href=\"https://github.com/tebelorg/RPA-Python\">https://github.com/tebelorg/RPA-Python</a>) </b>\n",
    "    </p>\n",
    "</div>"
   ]
  },
  {
   "cell_type": "code",
   "execution_count": 23,
   "metadata": {},
   "outputs": [],
   "source": [
    "# Write your code from here:\n"
   ]
  },
  {
   "cell_type": "markdown",
   "metadata": {},
   "source": [
    "---"
   ]
  },
  {
   "cell_type": "code",
   "execution_count": 24,
   "metadata": {},
   "outputs": [],
   "source": [
    "# Or use below 'filling the blank' coding template:"
   ]
  },
  {
   "cell_type": "code",
   "execution_count": null,
   "metadata": {},
   "outputs": [],
   "source": [
    "# maybe you will surprise about some xpath using unstable class name or other attributes\n",
    "def getJobDescription():\n",
    "    try:\n",
    "        t.click('//input[@placeholder=\"???\"]')\n",
    "        t.???('???','from:liyingxujiachen job opportunity')\n",
    "        t.???('//button[@aria-label=\"Search\"]')\n",
    "        t.wait(3)\n",
    "        num_email=t.count('//div[@class=\"_1hHMVrN7VV4d6Ylz-FsMuP _18LAllQi61d4a4XNAr9prg\"]')\n",
    "        print('The number of job opportunity emails is: ',num_email)\n",
    "        jd_files=[]\n",
    "        for n in range(1,num_email+1):\n",
    "            t.click(f'(//div[@class=\"_1hHMVrN7VV4d6Ylz-FsMuP _18LAllQi61d4a4XNAr9prg\"])[{n}]')\n",
    "            jd_files.append(os.path.join(CURRENT_PATH,hover_and_read('//a[@target=\"_blank\"]/@href').split(\"location=./\")[-1]))\n",
    "            print(\"Thoes job opportunities files \",jd_files)\n",
    "        return jd_files\n",
    "    finally:\n",
    "        t.close()"
   ]
  },
  {
   "cell_type": "code",
   "execution_count": 26,
   "metadata": {},
   "outputs": [
    {
     "name": "stdout",
     "output_type": "stream",
     "text": [
      "[RPA][ERROR] - use init() before using close()\n"
     ]
    },
    {
     "data": {
      "text/plain": [
       "False"
      ]
     },
     "execution_count": 26,
     "metadata": {},
     "output_type": "execute_result"
    }
   ],
   "source": [
    "t.close()"
   ]
  },
  {
   "cell_type": "code",
   "execution_count": 27,
   "metadata": {
    "scrolled": true
   },
   "outputs": [
    {
     "name": "stdout",
     "output_type": "stream",
     "text": [
      "The number of job opportunity emails is:  9\n",
      "Thoes job opportunities files  ['/media/sf_vm_shared_folder/git/S-IPA-Workshop/workshop2/Virtual-Assistant-Job/jd/5.pdf']\n",
      "Thoes job opportunities files  ['/media/sf_vm_shared_folder/git/S-IPA-Workshop/workshop2/Virtual-Assistant-Job/jd/5.pdf', '/media/sf_vm_shared_folder/git/S-IPA-Workshop/workshop2/Virtual-Assistant-Job/jd/3.pdf']\n",
      "Thoes job opportunities files  ['/media/sf_vm_shared_folder/git/S-IPA-Workshop/workshop2/Virtual-Assistant-Job/jd/5.pdf', '/media/sf_vm_shared_folder/git/S-IPA-Workshop/workshop2/Virtual-Assistant-Job/jd/3.pdf', '/media/sf_vm_shared_folder/git/S-IPA-Workshop/workshop2/Virtual-Assistant-Job/jd/2.pdf']\n",
      "Thoes job opportunities files  ['/media/sf_vm_shared_folder/git/S-IPA-Workshop/workshop2/Virtual-Assistant-Job/jd/5.pdf', '/media/sf_vm_shared_folder/git/S-IPA-Workshop/workshop2/Virtual-Assistant-Job/jd/3.pdf', '/media/sf_vm_shared_folder/git/S-IPA-Workshop/workshop2/Virtual-Assistant-Job/jd/2.pdf', '/media/sf_vm_shared_folder/git/S-IPA-Workshop/workshop2/Virtual-Assistant-Job/jd/5.pdf']\n",
      "Thoes job opportunities files  ['/media/sf_vm_shared_folder/git/S-IPA-Workshop/workshop2/Virtual-Assistant-Job/jd/5.pdf', '/media/sf_vm_shared_folder/git/S-IPA-Workshop/workshop2/Virtual-Assistant-Job/jd/3.pdf', '/media/sf_vm_shared_folder/git/S-IPA-Workshop/workshop2/Virtual-Assistant-Job/jd/2.pdf', '/media/sf_vm_shared_folder/git/S-IPA-Workshop/workshop2/Virtual-Assistant-Job/jd/5.pdf', '/media/sf_vm_shared_folder/git/S-IPA-Workshop/workshop2/Virtual-Assistant-Job/jd/3.pdf']\n",
      "Thoes job opportunities files  ['/media/sf_vm_shared_folder/git/S-IPA-Workshop/workshop2/Virtual-Assistant-Job/jd/5.pdf', '/media/sf_vm_shared_folder/git/S-IPA-Workshop/workshop2/Virtual-Assistant-Job/jd/3.pdf', '/media/sf_vm_shared_folder/git/S-IPA-Workshop/workshop2/Virtual-Assistant-Job/jd/2.pdf', '/media/sf_vm_shared_folder/git/S-IPA-Workshop/workshop2/Virtual-Assistant-Job/jd/5.pdf', '/media/sf_vm_shared_folder/git/S-IPA-Workshop/workshop2/Virtual-Assistant-Job/jd/3.pdf', '/media/sf_vm_shared_folder/git/S-IPA-Workshop/workshop2/Virtual-Assistant-Job/jd/4.pdf']\n",
      "Thoes job opportunities files  ['/media/sf_vm_shared_folder/git/S-IPA-Workshop/workshop2/Virtual-Assistant-Job/jd/5.pdf', '/media/sf_vm_shared_folder/git/S-IPA-Workshop/workshop2/Virtual-Assistant-Job/jd/3.pdf', '/media/sf_vm_shared_folder/git/S-IPA-Workshop/workshop2/Virtual-Assistant-Job/jd/2.pdf', '/media/sf_vm_shared_folder/git/S-IPA-Workshop/workshop2/Virtual-Assistant-Job/jd/5.pdf', '/media/sf_vm_shared_folder/git/S-IPA-Workshop/workshop2/Virtual-Assistant-Job/jd/3.pdf', '/media/sf_vm_shared_folder/git/S-IPA-Workshop/workshop2/Virtual-Assistant-Job/jd/4.pdf', '/media/sf_vm_shared_folder/git/S-IPA-Workshop/workshop2/Virtual-Assistant-Job/jd/2.pdf']\n",
      "Thoes job opportunities files  ['/media/sf_vm_shared_folder/git/S-IPA-Workshop/workshop2/Virtual-Assistant-Job/jd/5.pdf', '/media/sf_vm_shared_folder/git/S-IPA-Workshop/workshop2/Virtual-Assistant-Job/jd/3.pdf', '/media/sf_vm_shared_folder/git/S-IPA-Workshop/workshop2/Virtual-Assistant-Job/jd/2.pdf', '/media/sf_vm_shared_folder/git/S-IPA-Workshop/workshop2/Virtual-Assistant-Job/jd/5.pdf', '/media/sf_vm_shared_folder/git/S-IPA-Workshop/workshop2/Virtual-Assistant-Job/jd/3.pdf', '/media/sf_vm_shared_folder/git/S-IPA-Workshop/workshop2/Virtual-Assistant-Job/jd/4.pdf', '/media/sf_vm_shared_folder/git/S-IPA-Workshop/workshop2/Virtual-Assistant-Job/jd/2.pdf', '/media/sf_vm_shared_folder/git/S-IPA-Workshop/workshop2/Virtual-Assistant-Job/jd/1.pdf']\n",
      "Thoes job opportunities files  ['/media/sf_vm_shared_folder/git/S-IPA-Workshop/workshop2/Virtual-Assistant-Job/jd/5.pdf', '/media/sf_vm_shared_folder/git/S-IPA-Workshop/workshop2/Virtual-Assistant-Job/jd/3.pdf', '/media/sf_vm_shared_folder/git/S-IPA-Workshop/workshop2/Virtual-Assistant-Job/jd/2.pdf', '/media/sf_vm_shared_folder/git/S-IPA-Workshop/workshop2/Virtual-Assistant-Job/jd/5.pdf', '/media/sf_vm_shared_folder/git/S-IPA-Workshop/workshop2/Virtual-Assistant-Job/jd/3.pdf', '/media/sf_vm_shared_folder/git/S-IPA-Workshop/workshop2/Virtual-Assistant-Job/jd/4.pdf', '/media/sf_vm_shared_folder/git/S-IPA-Workshop/workshop2/Virtual-Assistant-Job/jd/2.pdf', '/media/sf_vm_shared_folder/git/S-IPA-Workshop/workshop2/Virtual-Assistant-Job/jd/1.pdf', '/media/sf_vm_shared_folder/git/S-IPA-Workshop/workshop2/Virtual-Assistant-Job/jd/0.pdf']\n",
      "[RPA][ERROR] - use init() before using close()\n"
     ]
    }
   ],
   "source": [
    "try:\n",
    "    loginEmail_outlook(email_info['email'],email_info['password'])\n",
    "    t.wait(15)\n",
    "    jd_files = list(set(getJobDescription()))\n",
    "finally:\n",
    "    t.close()"
   ]
  },
  {
   "cell_type": "code",
   "execution_count": 28,
   "metadata": {},
   "outputs": [
    {
     "data": {
      "text/plain": [
       "['/media/sf_vm_shared_folder/git/S-IPA-Workshop/workshop2/Virtual-Assistant-Job/jd/5.pdf',\n",
       " '/media/sf_vm_shared_folder/git/S-IPA-Workshop/workshop2/Virtual-Assistant-Job/jd/3.pdf',\n",
       " '/media/sf_vm_shared_folder/git/S-IPA-Workshop/workshop2/Virtual-Assistant-Job/jd/2.pdf',\n",
       " '/media/sf_vm_shared_folder/git/S-IPA-Workshop/workshop2/Virtual-Assistant-Job/jd/5.pdf',\n",
       " '/media/sf_vm_shared_folder/git/S-IPA-Workshop/workshop2/Virtual-Assistant-Job/jd/3.pdf',\n",
       " '/media/sf_vm_shared_folder/git/S-IPA-Workshop/workshop2/Virtual-Assistant-Job/jd/4.pdf',\n",
       " '/media/sf_vm_shared_folder/git/S-IPA-Workshop/workshop2/Virtual-Assistant-Job/jd/2.pdf',\n",
       " '/media/sf_vm_shared_folder/git/S-IPA-Workshop/workshop2/Virtual-Assistant-Job/jd/1.pdf',\n",
       " '/media/sf_vm_shared_folder/git/S-IPA-Workshop/workshop2/Virtual-Assistant-Job/jd/0.pdf']"
      ]
     },
     "execution_count": 28,
     "metadata": {},
     "output_type": "execute_result"
    }
   ],
   "source": [
    "jd_files"
   ]
  },
  {
   "cell_type": "code",
   "execution_count": 29,
   "metadata": {
    "scrolled": false
   },
   "outputs": [],
   "source": [
    "# Uncommnet below, then press Shift+Enter for solution\n",
    "# codehelper.hint_for_ipa_exercise_one()"
   ]
  },
  {
   "cell_type": "code",
   "execution_count": 30,
   "metadata": {},
   "outputs": [
    {
     "name": "stdout",
     "output_type": "stream",
     "text": [
      "[RPA][ERROR] - use init() before using close()\n"
     ]
    },
    {
     "data": {
      "text/plain": [
       "False"
      ]
     },
     "execution_count": 30,
     "metadata": {},
     "output_type": "execute_result"
    }
   ],
   "source": [
    "t.close()"
   ]
  },
  {
   "cell_type": "markdown",
   "metadata": {},
   "source": [
    "<div class=\"alert alert-success alertdanger\" style=\"margin-top: 20px\">\n",
    "    <h1>\n",
    "        Second: Write cover letter\n",
    "    </h1>\n",
    "    <p>\n",
    "        Use local AI module to conduct text/language processing and generate the coverletters based on the Job Description and the Resume\n",
    "    </p>\n",
    "</div>"
   ]
  },
  {
   "cell_type": "code",
   "execution_count": 31,
   "metadata": {},
   "outputs": [
    {
     "data": {
      "text/plain": [
       "'/media/sf_vm_shared_folder/git/S-IPA-Workshop/workshop2/Virtual-Assistant-Job/resume/resume.pdf'"
      ]
     },
     "execution_count": 31,
     "metadata": {},
     "output_type": "execute_result"
    }
   ],
   "source": [
    "resume_file_path"
   ]
  },
  {
   "cell_type": "code",
   "execution_count": 43,
   "metadata": {
    "scrolled": true
   },
   "outputs": [
    {
     "name": "stdout",
     "output_type": "stream",
     "text": [
      "Processing the resume\n",
      "Converting pdf to html and txt file ...\n",
      "Extracting project information...\n",
      "Processing the resume done\n",
      "Resume Type:AI\n",
      "Processing the jds\n",
      "5.pdf\n",
      "Converting job pdf to html and txt...\n",
      "Extracting job information...\n",
      "Job Type:AI\n",
      "3.pdf\n",
      "Converting job pdf to html and txt...\n",
      "Extracting job information...\n",
      "Job Type:AI\n",
      "2.pdf\n",
      "Converting job pdf to html and txt...\n",
      "Extracting job information...\n",
      "Job Type:AI\n",
      "5.pdf\n",
      "Converting job pdf to html and txt...\n",
      "Extracting job information...\n",
      "Job Type:AI\n",
      "3.pdf\n",
      "Converting job pdf to html and txt...\n",
      "Extracting job information...\n",
      "Job Type:AI\n",
      "4.pdf\n",
      "Converting job pdf to html and txt...\n",
      "Extracting job information...\n",
      "Job Type:Software Engineer\n",
      "2.pdf\n",
      "Converting job pdf to html and txt...\n",
      "Extracting job information...\n",
      "Job Type:AI\n",
      "1.pdf\n",
      "Converting job pdf to html and txt...\n",
      "Extracting job information...\n",
      "Job Type:Software Engineer\n",
      "0.pdf\n",
      "Converting job pdf to html and txt...\n",
      "Extracting job information...\n",
      "Job Type:Software Engineer\n",
      "Processing the jds,done\n",
      "Generating CoverLetter\n",
      "Extracting email...\n",
      "Extracting phone...\n",
      "Extracting json from project and education experience...\n",
      "[{'date': \"['2018']-[]\", 'school': '.• Won the Second Price of 2018 Chinese University Student Computer Design Competition'}, {'date': '[]-[]', 'school': '  Graduation Thesis of Shanghai University of Electric Power'}, {'date': '[]-[]', 'school': 'Shanghai University of Electric Power'}, {'date': '[]-[]', 'school': 'National University of Singapore'}]\n",
      "setting derived fields...\n",
      "Extracting job information...\n",
      "{'System Integration Analyst (Contract)-->0': ['Interested applicants please send resumes to recruit@singpost.com'], 'Summary-->1': ['To work as a System Integration Analyst supporting critical systems used for last mile delivery in the organisation', 'spanning across at least 10 countries.', 'The primary responsibilities include onboarding of Customers and Service Providers, gather, analyse and', 'implement integration requirements.'], 'Responsibilities-->2': ['    â\\x80¢    Onboard Customers and Service Providers', '    â\\x80¢    Perform Analysis and Deep Diving into Integration Requirements and manage Queries from', '         integrating parties', '    â\\x80¢    In-charged and coordinate Integration Testing', '    â\\x80¢    Setup and Configure related systems for new customers and service providers', '    â\\x80¢    Work closely with the business users, peers, customers and service providers to study the', '         requirements and to document detailed requests into the Functional Specifications where', '         required', '    â\\x80¢    Discuss and provide Test Cases for Integration Testing', '    â\\x80¢    Plan and Implement required changes for onboarding new customers and service providers', '    â\\x80¢    Analyse and Implement IT solutions for both new products and product enhancements'], 'Requirements-->3': ['    â\\x80¢    Bachelor Degree in Computer Science, IT or related disciplines', '    â\\x80¢    Ability to conduct user and business requirements study in a systematic approach;', '    â\\x80¢    Prior Experience on integrating external parties including but not limited to Track and Trace,', '         Parcel Scanning, Deliveries, Collection Points and related software applications;', '    â\\x80¢    Knowledge on eCommerce Logistics Processing and Delivery functions;', '    â\\x80¢    Experience in handling users, peers, peers, customers and service providers across different', '         geographical regions and industries;', '    â\\x80¢    Experience in managing multiple concurrent initiatives.', 'Technical Skills:', '   â\\x80¢ Knowledge and working experienced in Web Services', '   â\\x80¢ Working experienced with MS SQL Server 2016 / MS VSS 2015', '   â\\x80¢ Experience with MS .Net/ XML / JSON/ Webhooks;', '\\x0c']}\n",
      "1\n",
      "{}\n",
      "2\n",
      "123\n",
      "AI\n",
      "Extracting project information...\n",
      "['- MOBILE : +65-93752168 – Email liyingxujiachen @ hotmail.comProfessional Software Engineer with three years of Java Backend Project Experience , two years of Python full stack and architecture experience and Vue.js Frontenddevelopment experience , familiar with software engineering , software architecture , hybrid application development and DevopsWork Experience']\n",
      "['September 2014 to June 2018']\n",
      "Extracting total workex and relevant workex years...\n",
      "Forming workex sentences...\n",
      "Extracting job information...\n",
      "{'DELIVERY CONSULTANT â\\x80\\x93 Primary focus â\\x80\\x93 Data Analytics\\n\\nJOB DESCRIPTION-->1': ['Department:                     LEAP Delivery Team'], '                                Senior Specialist â\\x80\\x93 Professional Services & Onboarding\\n\\nJob Title:-->3': ['                                (Delivery Consultant â\\x80\\x93 Data Analytics)'], 'The Ideal Candidate-->4': ['You are a highly motivated, dynamic and adaptable team contributor who thrives in an innovative,', 'performance-oriented environment. Continual learning is everything and you want to be a key', 'contributor in a team full of diverse, experienced technology and business professionals. Deep down', 'you have a passion for life, embrace change and thrive in a creative environment. You understand', 'what motivates customers and team members alike and you find solutions to their problems that are', 'economic, strategic and elegant.', 'You enjoy and have experience in both â\\x80\\x9chands-on technicalâ\\x80\\x9d and â\\x80\\x9cbusiness/data analysisâ\\x80\\x9d roles.', 'You are excited by working with data analytics with a focus on efficiency, simplicity and building high', 'impact customer features.', 'You may have been called a Power User, Solution Specialist, or Architect. You have also been a software', 'developer and have experience managing and serving customers. You understand that the work you do', 'will change how organizations and the industry can access, explore, and execute data. Towards this', 'end you will be responsible for engaging with our customers to â\\x80\\x9cimplement Datameer solutionsâ\\x80\\x9d', 'among other analytics solutions and help users from various business roles leverage it effectively to', 'solve their technical and strategic needs. For e.g.,', '     â\\x96ª Help Data Engineers get ahead of all their data demands, quickly transforming raw data into', '         analytics-ready datasets', '     â\\x96ª Understand needs of Business Analysts to access more data and get answers to their questions', '         in hours, not weeks. Empower and help them shape data with point-and-click tools and start', '         discovering business-changing insights.', '     â\\x96ª Work with Data Scientists to help them explore all the data for agile and more accurate ML and', '         AI projects, performing point-and-click algorithmic and statistical analysis for faster, easier', '         feature engineering.', 'You understand what motivates customers and team members alike and you find solutions to their', 'problems that are economic, strategic and elegant.', 'Joining the LEAP team gives you the opportunity to: work on disruptive products and technologies still', 'in its very early stages, solving challenging problems that will revolutionize enterprise computing in', 'the cloud.', 'As a key technologist and practitioner, in the Data Analytics space you will be sought after for your', 'knowledge by your colleagues, peers and by our customers for your expertise and insights.'], 'Your Purpose:-->5': ['In this role, you will be a key member of LEAPâ\\x80\\x99s Professional Services Organization, and the point', 'person for Data Analytics.', '\\x0cAs the Senior Data Analytics Specialist, you will own and manage the implementation of analytics', 'solutions for our customers. Leveraging your experience and insights into how organizations access,', 'explore, and execute data you will engage with our customers to â\\x80\\x9cimplement Datameer solutionsâ\\x80\\x9d', 'among other analytics solutions and help users from various business roles leverage it effectively to', 'solve their technical and strategic needs. For example,', '    â\\x96ª Help Data Engineers get ahead of all their data demands, quickly transforming raw data into', '         analytics-ready datasets', '    â\\x96ª Understand needs of Business Analysts to access more data and get answers to their questions', '         in hours, not weeks. Empower and help them shape data with point-and-click tools and start', '         discovering business-changing insights.', '    â\\x96ª Work with Data Scientists to help them explore all the data for agile and more accurate ML and', '         AI projects, performing point-and-click algorithmic and statistical analysis for faster, easier', '         feature engineering.', 'The Delivery Consultant (Analytics) will drive implementation, adoption, retention of Datameer and', 'associate solutions, in a customer centric manner to ensure overall success and satisfaction of your', 'customers.'], 'Consulting-->7': ['   â\\x96ª Lead customer teams and projects for our customers; be the face of Datameer to the project', '        team during your scoped project.', '   â\\x96ª Interface with customers to gather requirements and articulate technical design of a solution', '        to customer.', '   â\\x96ª Conceptualization, Design (both High Level & Low Level) of comprehensive Data Analytics â\\x80\\x93', '        Big Data Solutions.', '   â\\x96ª Implementation of solutions and products of different types (with a focus on Datameer', '        Solutions) during all stages of the project lifecycle including Technical Design specification,', '        Integration of the solution, Operationalization (Training & process change), Customer', '        Adoption and Business Value Realisation', '   â\\x96ª Create strong relationships, train others and evangelize your findings and implications.', '   â\\x96ª Scope project work, maintain project status, communicate status, issues, risks, and escalate as', '        appropriate within Datameer and with Customer teams.', '   â\\x96ª Interface and collaborate with customer and Datameer team members both in project and', '        outside, including other consultants and program management.', '   â\\x96ª Provide hands on implementation, troubleshooting, and instruction in a customer facing role.', '   â\\x96ª Estimate efforts required to deliver a fully tested solution to customers, this may include', '        integrations leveraging SDK, REST APIâ\\x80\\x99s, or other programmatic approaches.'], 'Technical-->8\\n   â\\x96ª â\\x80\\x9cFull Datameer lifecycle ownershipâ\\x80\\x9d including installation through to analytical business\\n       outcomes; this requires a broad range of skills in the areas of analytics, data management,\\n       programming, and infrastructure architecture.\\n   â\\x96ª Integrate Datameer with tools and cloud-based platforms within the big data ecosystem (e.g.\\n       Hadoop, Spark, Tez, Azure HDI, Amazon EMR, RedShift, Google DataProc etcâ\\x80¦).\\n   â\\x96ª Design and develop plugins and extension services to aid customer users in data discovery,\\n       data preparation and analytics use cases.\\n   â\\x96ª Interface with Datameer engineering groups to initiate product changes; be the customer\\n       advocate and represent the business to technology and technology to business.\\n\\x0c    â\\x96ª   Design, build and maintain distributed data processing components driving the core of the\\n        Datameer application stack.\\n   â\\x96ª Influence product strategy and help drive product roadmap while developing cloud native\\n        analytics features against multiple public cloud platforms.\\n   â\\x96ª Provide architectural guidance for both on-premise and cloud rollouts.\\n   â\\x96ª Assist with application migrations of Datameer and guide strategy for data migrations.\\n\\nAnalytics-->9': ['   â\\x96ª Lead business and data analytics teams to identify and define valuable outcomes.', '   â\\x96ª Design, build, and mentor customer use cases and analytics.', '   â\\x96ª Provide best practices and tools to assist with data preparation and ETL/ELT project work.', '   â\\x96ª Hands on experience of conducting due diligence, data analysis and dependency assessment', '        required for successfully delivering the project.', '   â\\x96ª Participate in contract negotiation, proof of value execution and other late-stage presales', '        activities', '   â\\x96ª Should work in agile manner using backlogs, sprints and Kanban', '   â\\x96ª Able to assist in proposal writing, including proactive input for proposals and RFI/RFP', '        responses', '   â\\x96ª Accountable for implementation and customer success'], 'Preferred Experiences-->11': ['        â\\x96ª   5-6 years of relevant experience in consulting, technical support, professional services, or', '            systems engineering in a customer facing role.', '        â\\x96ª   At least 3-5 years software programming experience. Preferably with Java and related JVM', '            technologies.', '        â\\x96ª   Knowledge of professional software engineering best practices for the full software', '            development life cycle.', '        â\\x96ª   Applied experience with analytical programming such as Python or R to create data', '            pipelines, machine learning models, or business intelligence discoveries. (Good to Have)', '        â\\x96ª   Experience with cloud data technologies like EC2, EMR, RedShift, Azure HDI, Azure Data', '            Lake.', '        â\\x96ª   Proficiency in Linux operating systems including shell script authoring; experience with', '            distributed systems like Hadoop a big plus', '        â\\x96ª   Experience with Big Data related tools and technologies: MapReduce/Tez, HDFS,', '            HBase, Hive, Hadoop, Spark and Cloud Infrastructure providers: AWS, Azure, Google Cloud', '            will be considered an asset.', '        â\\x96ª   Experience with distributed data processing, in memory technologies, data flow', '            optimization, distributed search, cluster resource management, etc.', '        â\\x96ª   Familiarity with SQL and NoSQL databases (i.e. MySQL, Spark, etc.), data streaming and', '            integrating unstructured data will be plus.', '        â\\x96ª   Analytical experience, understanding the value that data can offer to a business unit is', '            preferred.', '        â\\x96ª   Ability to work and thrive in a fast-paced environment, learn rapidly and master diverse', '            technologies and techniques. Willingness to roll up the sleeves in a fast-paced, highly', '            varied environment', '        â\\x96ª   Demonstrated excellence in the following three categories:', '             o Consulting: discovery, analysis, listening, communication, and project leadership', '             o Analytics: given a dataset, you can extract insights and craft a compelling', '                 presentation', '             o Technical: proven comfort getting your hands dirty with SQL, relational databases,', '                 APIs', '        â\\x96ª   Strong interpersonal and collaboration skills; proven ability to build relationships', '\\x0c       â\\x96ª   Strong executive presentation and persuasion skills; excellent deliverable creation', '           and editing skills. Be prepared to show samples or present', '       â\\x96ª   Experience with Agile development teams and excellent interpersonal skills.', '       â\\x96ª   Demonstrated experience with agile project management and comfort with project', '           management concepts.', '       â\\x96ª   Organized thinker, high level of communication to people of various technical skill set and', '           acumen.', '       â\\x96ª   Availability to travel to customer sites; up to 50%+ travel.', '       â\\x96ª   Strong Communication Skills in English; addnl. ASEAN languages a plus'], 'Must Have Requirements-->15': ['       1. Conceptualization, Design (both High Level & Low Level) of comprehensive Data Analytics', '          â\\x80\\x93 Big Data Solutions.', '       2. Lead business and data analytics teams to identify and define valuable outcomes.', '       3. Design, build, and mentor customer use cases and analytics.', '       4. Tool & Solution Implementation and Use.', '       5. Provide best practices and tools to assist with data preparation and ETL/ELT project', '          work.', '       6. Hands on experience of conducting due diligence, data analysis and dependency', '          assessment required for successfully delivering the project.', '       7. Professional certification & knowledge in at Hadoop / RedShift/ Azure HDI/ Azure Data', '          Lake or any ELT / ETL Tool'], 'Good to Have Requirements-->17': ['       1. Applied experience with analytical programming such as Python or R to create data', '          pipelines, machine learning models, or business intelligence discoveries.', '       2. Experience with cloud data technologies like EC2, EMR, RedShift, Azure HDI, Azure Data', '          Lake.', '       3. Experience with Big Data related tools and technologies: MapReduce/Tez, HDFS,', '          HBase, Hive, Hadoop, Spark and Cloud Infrastructure providers: AWS, Azure, Google Cloud', '          will be considered an asset.', '       4. Proficiency in Linux operating systems including shell script authoring; experience with', '          distributed systems like Hadoop a big plus', '       5. Intermediate knowledge of Cloud Computing with certification from AWS /GCP/ Azure']}\n",
      "1\n",
      "{}\n",
      "2\n",
      "123\n",
      "AI\n",
      "Extracting project information...\n",
      "['- MOBILE : +65-93752168 – Email liyingxujiachen @ hotmail.comProfessional Software Engineer with three years of Java Backend Project Experience , two years of Python full stack and architecture experience and Vue.js Frontenddevelopment experience , familiar with software engineering , software architecture , hybrid application development and DevopsWork Experience']\n",
      "['September 2014 to June 2018']\n",
      "Extracting total workex and relevant workex years...\n",
      "Forming workex sentences...\n",
      "Extracting job information...\n",
      "{'About Health Sciences Authority (HSA)-->1': ['At the Health Sciences Authority (HSA), we recognise the enormous challenge posed today by the', 'biomedical sciences and the blurring of boundaries between healthcare products resulting from', 'increasing convergence in the application of medical technology. It is right here in HSA, where we are', 'uniquely equipped to meet this challenge. A statutory board formed on 1 April 2001, we play a vital', 'role in supporting healthcare services and regulation, serving the administration of justice and', 'enhancing safety in our community. We are responsible for the quality, safety and efficacy of', 'medicines, medical devices, blood and its products and all health-related products available in', 'Singapore. We provide a comprehensive regulatory service for the evaluation and marketing approval', 'of all therapeutic products. We also provide scientific, investigative and analytical support for vital', 'governmental functions such as forensic expertise for the courts, drug and criminal investigations and', 'the regulation of food safety and industrial and environmental health.'], 'Job Description-->2': ['â\\x80¢   Interact closely with research project team which includes healthcare professionals, academics', '    and IT system vendor.', 'â\\x80¢   Conceptualise, develop and integrate artificial intelligence algorithms from big healthcare data', '    sets that will be fed into various business programs.', 'â\\x80¢   Build intuitive dashboards that help visualize and answer complex business problems.'], 'Requirements-->3': ['â\\x80¢   Undergraduate or degree holder, preferably in computer science, machine learning, information', '    technology, business analytics or related disciplines.', 'â\\x80¢   At least 2 yearsâ\\x80\\x99 experience with programming in Python.', 'â\\x80¢   Good knowledge in R, Java, SQL, Stata, machine learning algorithms and/or natural language', '    processing will be an advantage.', 'â\\x80¢   Development and implementation of machine learning algorithms, extract information from', '    websites, meta data management, data transformation, and data integration.', '    For applicant who is interested, please submit the resume to the hiring manager and information', '    as follows:', '        ï\\x83\\x98 Name: Ms. Ang Pei San (Regulatory Consultant, Common Vigilance Branch)', '        ï\\x83\\x98 ANG_Pei_San@hsa.gov.sg', '\\x0c']}\n",
      "1\n",
      "{}\n",
      "2\n",
      "123\n",
      "AI\n",
      "Extracting project information...\n",
      "['- MOBILE : +65-93752168 – Email liyingxujiachen @ hotmail.comProfessional Software Engineer with three years of Java Backend Project Experience , two years of Python full stack and architecture experience and Vue.js Frontenddevelopment experience , familiar with software engineering , software architecture , hybrid application development and DevopsWork Experience']\n",
      "['September 2014 to June 2018']\n",
      "Extracting total workex and relevant workex years...\n",
      "Forming workex sentences...\n",
      "Extracting job information...\n",
      "{'System Integration Analyst (Contract)-->0': ['Interested applicants please send resumes to recruit@singpost.com'], 'Summary-->1': ['To work as a System Integration Analyst supporting critical systems used for last mile delivery in the organisation', 'spanning across at least 10 countries.', 'The primary responsibilities include onboarding of Customers and Service Providers, gather, analyse and', 'implement integration requirements.'], 'Responsibilities-->2': ['    â\\x80¢    Onboard Customers and Service Providers', '    â\\x80¢    Perform Analysis and Deep Diving into Integration Requirements and manage Queries from', '         integrating parties', '    â\\x80¢    In-charged and coordinate Integration Testing', '    â\\x80¢    Setup and Configure related systems for new customers and service providers', '    â\\x80¢    Work closely with the business users, peers, customers and service providers to study the', '         requirements and to document detailed requests into the Functional Specifications where', '         required', '    â\\x80¢    Discuss and provide Test Cases for Integration Testing', '    â\\x80¢    Plan and Implement required changes for onboarding new customers and service providers', '    â\\x80¢    Analyse and Implement IT solutions for both new products and product enhancements'], 'Requirements-->3': ['    â\\x80¢    Bachelor Degree in Computer Science, IT or related disciplines', '    â\\x80¢    Ability to conduct user and business requirements study in a systematic approach;', '    â\\x80¢    Prior Experience on integrating external parties including but not limited to Track and Trace,', '         Parcel Scanning, Deliveries, Collection Points and related software applications;', '    â\\x80¢    Knowledge on eCommerce Logistics Processing and Delivery functions;', '    â\\x80¢    Experience in handling users, peers, peers, customers and service providers across different', '         geographical regions and industries;', '    â\\x80¢    Experience in managing multiple concurrent initiatives.', 'Technical Skills:', '   â\\x80¢ Knowledge and working experienced in Web Services', '   â\\x80¢ Working experienced with MS SQL Server 2016 / MS VSS 2015', '   â\\x80¢ Experience with MS .Net/ XML / JSON/ Webhooks;', '\\x0c']}\n",
      "1\n",
      "{}\n",
      "2\n",
      "123\n",
      "AI\n",
      "Extracting project information...\n",
      "['- MOBILE : +65-93752168 – Email liyingxujiachen @ hotmail.comProfessional Software Engineer with three years of Java Backend Project Experience , two years of Python full stack and architecture experience and Vue.js Frontenddevelopment experience , familiar with software engineering , software architecture , hybrid application development and DevopsWork Experience']\n",
      "['September 2014 to June 2018']\n",
      "Extracting total workex and relevant workex years...\n",
      "Forming workex sentences...\n",
      "Extracting job information...\n",
      "{'DELIVERY CONSULTANT â\\x80\\x93 Primary focus â\\x80\\x93 Data Analytics\\n\\nJOB DESCRIPTION-->1': ['Department:                     LEAP Delivery Team'], '                                Senior Specialist â\\x80\\x93 Professional Services & Onboarding\\n\\nJob Title:-->3': ['                                (Delivery Consultant â\\x80\\x93 Data Analytics)'], 'The Ideal Candidate-->4': ['You are a highly motivated, dynamic and adaptable team contributor who thrives in an innovative,', 'performance-oriented environment. Continual learning is everything and you want to be a key', 'contributor in a team full of diverse, experienced technology and business professionals. Deep down', 'you have a passion for life, embrace change and thrive in a creative environment. You understand', 'what motivates customers and team members alike and you find solutions to their problems that are', 'economic, strategic and elegant.', 'You enjoy and have experience in both â\\x80\\x9chands-on technicalâ\\x80\\x9d and â\\x80\\x9cbusiness/data analysisâ\\x80\\x9d roles.', 'You are excited by working with data analytics with a focus on efficiency, simplicity and building high', 'impact customer features.', 'You may have been called a Power User, Solution Specialist, or Architect. You have also been a software', 'developer and have experience managing and serving customers. You understand that the work you do', 'will change how organizations and the industry can access, explore, and execute data. Towards this', 'end you will be responsible for engaging with our customers to â\\x80\\x9cimplement Datameer solutionsâ\\x80\\x9d', 'among other analytics solutions and help users from various business roles leverage it effectively to', 'solve their technical and strategic needs. For e.g.,', '     â\\x96ª Help Data Engineers get ahead of all their data demands, quickly transforming raw data into', '         analytics-ready datasets', '     â\\x96ª Understand needs of Business Analysts to access more data and get answers to their questions', '         in hours, not weeks. Empower and help them shape data with point-and-click tools and start', '         discovering business-changing insights.', '     â\\x96ª Work with Data Scientists to help them explore all the data for agile and more accurate ML and', '         AI projects, performing point-and-click algorithmic and statistical analysis for faster, easier', '         feature engineering.', 'You understand what motivates customers and team members alike and you find solutions to their', 'problems that are economic, strategic and elegant.', 'Joining the LEAP team gives you the opportunity to: work on disruptive products and technologies still', 'in its very early stages, solving challenging problems that will revolutionize enterprise computing in', 'the cloud.', 'As a key technologist and practitioner, in the Data Analytics space you will be sought after for your', 'knowledge by your colleagues, peers and by our customers for your expertise and insights.'], 'Your Purpose:-->5': ['In this role, you will be a key member of LEAPâ\\x80\\x99s Professional Services Organization, and the point', 'person for Data Analytics.', '\\x0cAs the Senior Data Analytics Specialist, you will own and manage the implementation of analytics', 'solutions for our customers. Leveraging your experience and insights into how organizations access,', 'explore, and execute data you will engage with our customers to â\\x80\\x9cimplement Datameer solutionsâ\\x80\\x9d', 'among other analytics solutions and help users from various business roles leverage it effectively to', 'solve their technical and strategic needs. For example,', '    â\\x96ª Help Data Engineers get ahead of all their data demands, quickly transforming raw data into', '         analytics-ready datasets', '    â\\x96ª Understand needs of Business Analysts to access more data and get answers to their questions', '         in hours, not weeks. Empower and help them shape data with point-and-click tools and start', '         discovering business-changing insights.', '    â\\x96ª Work with Data Scientists to help them explore all the data for agile and more accurate ML and', '         AI projects, performing point-and-click algorithmic and statistical analysis for faster, easier', '         feature engineering.', 'The Delivery Consultant (Analytics) will drive implementation, adoption, retention of Datameer and', 'associate solutions, in a customer centric manner to ensure overall success and satisfaction of your', 'customers.'], 'Consulting-->7': ['   â\\x96ª Lead customer teams and projects for our customers; be the face of Datameer to the project', '        team during your scoped project.', '   â\\x96ª Interface with customers to gather requirements and articulate technical design of a solution', '        to customer.', '   â\\x96ª Conceptualization, Design (both High Level & Low Level) of comprehensive Data Analytics â\\x80\\x93', '        Big Data Solutions.', '   â\\x96ª Implementation of solutions and products of different types (with a focus on Datameer', '        Solutions) during all stages of the project lifecycle including Technical Design specification,', '        Integration of the solution, Operationalization (Training & process change), Customer', '        Adoption and Business Value Realisation', '   â\\x96ª Create strong relationships, train others and evangelize your findings and implications.', '   â\\x96ª Scope project work, maintain project status, communicate status, issues, risks, and escalate as', '        appropriate within Datameer and with Customer teams.', '   â\\x96ª Interface and collaborate with customer and Datameer team members both in project and', '        outside, including other consultants and program management.', '   â\\x96ª Provide hands on implementation, troubleshooting, and instruction in a customer facing role.', '   â\\x96ª Estimate efforts required to deliver a fully tested solution to customers, this may include', '        integrations leveraging SDK, REST APIâ\\x80\\x99s, or other programmatic approaches.'], 'Technical-->8\\n   â\\x96ª â\\x80\\x9cFull Datameer lifecycle ownershipâ\\x80\\x9d including installation through to analytical business\\n       outcomes; this requires a broad range of skills in the areas of analytics, data management,\\n       programming, and infrastructure architecture.\\n   â\\x96ª Integrate Datameer with tools and cloud-based platforms within the big data ecosystem (e.g.\\n       Hadoop, Spark, Tez, Azure HDI, Amazon EMR, RedShift, Google DataProc etcâ\\x80¦).\\n   â\\x96ª Design and develop plugins and extension services to aid customer users in data discovery,\\n       data preparation and analytics use cases.\\n   â\\x96ª Interface with Datameer engineering groups to initiate product changes; be the customer\\n       advocate and represent the business to technology and technology to business.\\n\\x0c    â\\x96ª   Design, build and maintain distributed data processing components driving the core of the\\n        Datameer application stack.\\n   â\\x96ª Influence product strategy and help drive product roadmap while developing cloud native\\n        analytics features against multiple public cloud platforms.\\n   â\\x96ª Provide architectural guidance for both on-premise and cloud rollouts.\\n   â\\x96ª Assist with application migrations of Datameer and guide strategy for data migrations.\\n\\nAnalytics-->9': ['   â\\x96ª Lead business and data analytics teams to identify and define valuable outcomes.', '   â\\x96ª Design, build, and mentor customer use cases and analytics.', '   â\\x96ª Provide best practices and tools to assist with data preparation and ETL/ELT project work.', '   â\\x96ª Hands on experience of conducting due diligence, data analysis and dependency assessment', '        required for successfully delivering the project.', '   â\\x96ª Participate in contract negotiation, proof of value execution and other late-stage presales', '        activities', '   â\\x96ª Should work in agile manner using backlogs, sprints and Kanban', '   â\\x96ª Able to assist in proposal writing, including proactive input for proposals and RFI/RFP', '        responses', '   â\\x96ª Accountable for implementation and customer success'], 'Preferred Experiences-->11': ['        â\\x96ª   5-6 years of relevant experience in consulting, technical support, professional services, or', '            systems engineering in a customer facing role.', '        â\\x96ª   At least 3-5 years software programming experience. Preferably with Java and related JVM', '            technologies.', '        â\\x96ª   Knowledge of professional software engineering best practices for the full software', '            development life cycle.', '        â\\x96ª   Applied experience with analytical programming such as Python or R to create data', '            pipelines, machine learning models, or business intelligence discoveries. (Good to Have)', '        â\\x96ª   Experience with cloud data technologies like EC2, EMR, RedShift, Azure HDI, Azure Data', '            Lake.', '        â\\x96ª   Proficiency in Linux operating systems including shell script authoring; experience with', '            distributed systems like Hadoop a big plus', '        â\\x96ª   Experience with Big Data related tools and technologies: MapReduce/Tez, HDFS,', '            HBase, Hive, Hadoop, Spark and Cloud Infrastructure providers: AWS, Azure, Google Cloud', '            will be considered an asset.', '        â\\x96ª   Experience with distributed data processing, in memory technologies, data flow', '            optimization, distributed search, cluster resource management, etc.', '        â\\x96ª   Familiarity with SQL and NoSQL databases (i.e. MySQL, Spark, etc.), data streaming and', '            integrating unstructured data will be plus.', '        â\\x96ª   Analytical experience, understanding the value that data can offer to a business unit is', '            preferred.', '        â\\x96ª   Ability to work and thrive in a fast-paced environment, learn rapidly and master diverse', '            technologies and techniques. Willingness to roll up the sleeves in a fast-paced, highly', '            varied environment', '        â\\x96ª   Demonstrated excellence in the following three categories:', '             o Consulting: discovery, analysis, listening, communication, and project leadership', '             o Analytics: given a dataset, you can extract insights and craft a compelling', '                 presentation', '             o Technical: proven comfort getting your hands dirty with SQL, relational databases,', '                 APIs', '        â\\x96ª   Strong interpersonal and collaboration skills; proven ability to build relationships', '\\x0c       â\\x96ª   Strong executive presentation and persuasion skills; excellent deliverable creation', '           and editing skills. Be prepared to show samples or present', '       â\\x96ª   Experience with Agile development teams and excellent interpersonal skills.', '       â\\x96ª   Demonstrated experience with agile project management and comfort with project', '           management concepts.', '       â\\x96ª   Organized thinker, high level of communication to people of various technical skill set and', '           acumen.', '       â\\x96ª   Availability to travel to customer sites; up to 50%+ travel.', '       â\\x96ª   Strong Communication Skills in English; addnl. ASEAN languages a plus'], 'Must Have Requirements-->15': ['       1. Conceptualization, Design (both High Level & Low Level) of comprehensive Data Analytics', '          â\\x80\\x93 Big Data Solutions.', '       2. Lead business and data analytics teams to identify and define valuable outcomes.', '       3. Design, build, and mentor customer use cases and analytics.', '       4. Tool & Solution Implementation and Use.', '       5. Provide best practices and tools to assist with data preparation and ETL/ELT project', '          work.', '       6. Hands on experience of conducting due diligence, data analysis and dependency', '          assessment required for successfully delivering the project.', '       7. Professional certification & knowledge in at Hadoop / RedShift/ Azure HDI/ Azure Data', '          Lake or any ELT / ETL Tool'], 'Good to Have Requirements-->17': ['       1. Applied experience with analytical programming such as Python or R to create data', '          pipelines, machine learning models, or business intelligence discoveries.', '       2. Experience with cloud data technologies like EC2, EMR, RedShift, Azure HDI, Azure Data', '          Lake.', '       3. Experience with Big Data related tools and technologies: MapReduce/Tez, HDFS,', '          HBase, Hive, Hadoop, Spark and Cloud Infrastructure providers: AWS, Azure, Google Cloud', '          will be considered an asset.', '       4. Proficiency in Linux operating systems including shell script authoring; experience with', '          distributed systems like Hadoop a big plus', '       5. Intermediate knowledge of Cloud Computing with certification from AWS /GCP/ Azure']}\n",
      "1\n",
      "{}\n",
      "2\n",
      "123\n",
      "AI\n",
      "Extracting project information...\n",
      "['- MOBILE : +65-93752168 – Email liyingxujiachen @ hotmail.comProfessional Software Engineer with three years of Java Backend Project Experience , two years of Python full stack and architecture experience and Vue.js Frontenddevelopment experience , familiar with software engineering , software architecture , hybrid application development and DevopsWork Experience']\n",
      "['September 2014 to June 2018']\n",
      "Extracting total workex and relevant workex years...\n",
      "Forming workex sentences...\n",
      "Extracting job information...\n",
      "{'About Health Sciences Authority (HSA)-->1': ['At the Health Sciences Authority (HSA), we recognise the enormous challenge posed today by the', 'biomedical sciences and the blurring of boundaries between healthcare products resulting from', 'increasing convergence in the application of medical technology. It is right here in HSA, where we are', 'uniquely equipped to meet this challenge. A statutory board formed on 1 April 2001, we play a vital', 'role in supporting healthcare services and regulation, serving the administration of justice and', 'enhancing safety in our community. We are responsible for the quality, safety and efficacy of', 'medicines, medical devices, blood and its products and all health-related products available in', 'Singapore. We provide a comprehensive regulatory service for the evaluation and marketing approval', 'of all therapeutic products. We also provide scientific, investigative and analytical support for vital', 'governmental functions such as forensic expertise for the courts, drug and criminal investigations and', 'the regulation of food safety and industrial and environmental health.'], 'Job Description-->2': ['â\\x80¢   Interact closely with research project team which includes healthcare professionals, academics', '    and IT system vendor.', 'â\\x80¢   Conceptualise, develop and integrate artificial intelligence algorithms from big healthcare data', '    sets that will be fed into various business programs.', 'â\\x80¢   Build intuitive dashboards that help visualize and answer complex business problems.'], 'Requirements-->3': ['â\\x80¢   Undergraduate or degree holder, preferably in computer science, machine learning, information', '    technology, business analytics or related disciplines.', 'â\\x80¢   At least 2 yearsâ\\x80\\x99 experience with programming in Python.', 'â\\x80¢   Good knowledge in R, Java, SQL, Stata, machine learning algorithms and/or natural language', '    processing will be an advantage.', 'â\\x80¢   Development and implementation of machine learning algorithms, extract information from', '    websites, meta data management, data transformation, and data integration.', '    For applicant who is interested, please submit the resume to the hiring manager and information', '    as follows:', '        ï\\x83\\x98 Name: Ms. Ang Pei San (Regulatory Consultant, Common Vigilance Branch)', '        ï\\x83\\x98 ANG_Pei_San@hsa.gov.sg', '\\x0c']}\n",
      "1\n",
      "{}\n",
      "2\n",
      "123\n",
      "AI\n",
      "Extracting project information...\n",
      "['- MOBILE : +65-93752168 – Email liyingxujiachen @ hotmail.comProfessional Software Engineer with three years of Java Backend Project Experience , two years of Python full stack and architecture experience and Vue.js Frontenddevelopment experience , familiar with software engineering , software architecture , hybrid application development and DevopsWork Experience']\n",
      "['September 2014 to June 2018']\n",
      "Extracting total workex and relevant workex years...\n",
      "Forming workex sentences...\n"
     ]
    },
    {
     "name": "stderr",
     "output_type": "stream",
     "text": [
      "/home/iss-user/anaconda3/envs/iss-env-py3/lib/python3.6/site-packages/sklearn/feature_extraction/text.py:300: UserWarning: Your stop_words may be inconsistent with your preprocessing. Tokenizing the stop words generated tokens ['ha', 'le', 'u', 'wa'] not in stop_words.\n",
      "  'stop_words.' % sorted(inconsistent))\n"
     ]
    },
    {
     "name": "stdout",
     "output_type": "stream",
     "text": [
      "0\n",
      "0\n",
      "0\n",
      "0\n",
      "0\n",
      "0\n",
      "Running time: 0.19860950000000013 Mins\n"
     ]
    }
   ],
   "source": [
    "from ipa import CoverLetterGenerator\n",
    "\n",
    "os.chdir(CURRENT_PATH)\n",
    "\n",
    "gen = CoverLetterGenerator(resume_file_path,jd_files,name,phone,email_info['email'])\n",
    "\n",
    "import time\n",
    "starttime = time.clock()\n",
    "cover_letters = gen.generate()\n",
    "endtime = time.clock()\n",
    "print('Running time: %s Mins'%((endtime-starttime)/60))"
   ]
  },
  {
   "cell_type": "code",
   "execution_count": 44,
   "metadata": {},
   "outputs": [
    {
     "data": {
      "text/plain": [
       "['/media/sf_vm_shared_folder/git/S-IPA-Workshop/workshop2/Virtual-Assistant-Job/ipa/coverletter_20200309/templates_0.pdf',\n",
       " '/media/sf_vm_shared_folder/git/S-IPA-Workshop/workshop2/Virtual-Assistant-Job/ipa/coverletter_20200309/templates_1.pdf',\n",
       " '/media/sf_vm_shared_folder/git/S-IPA-Workshop/workshop2/Virtual-Assistant-Job/ipa/coverletter_20200309/templates_2.pdf',\n",
       " '/media/sf_vm_shared_folder/git/S-IPA-Workshop/workshop2/Virtual-Assistant-Job/ipa/coverletter_20200309/templates_3.pdf',\n",
       " '/media/sf_vm_shared_folder/git/S-IPA-Workshop/workshop2/Virtual-Assistant-Job/ipa/coverletter_20200309/templates_4.pdf',\n",
       " '/media/sf_vm_shared_folder/git/S-IPA-Workshop/workshop2/Virtual-Assistant-Job/ipa/coverletter_20200309/templates_5.pdf']"
      ]
     },
     "execution_count": 44,
     "metadata": {},
     "output_type": "execute_result"
    }
   ],
   "source": [
    "# if the result is empty, that means your resume doesn't match those job postions, don't worry.\n",
    "# You can use your own resume\n",
    "cover_letters"
   ]
  },
  {
   "cell_type": "code",
   "execution_count": 45,
   "metadata": {},
   "outputs": [],
   "source": [
    "import shutil\n",
    "\n",
    "for index,cletter in enumerate(cover_letters):\n",
    "    shutil.copy(cletter,\n",
    "            './coverletter/coverleter_'+str(index)+\".pdf\")"
   ]
  },
  {
   "cell_type": "markdown",
   "metadata": {},
   "source": [
    "<div class=\"alert alert-success alertdanger\" style=\"margin-top: 20px\">\n",
    "    <h1>\n",
    "        Third: Send back application Email\n",
    "    </h1>\n",
    "    <p>\n",
    "        In this part, we use both pure python method and tagui to send the email to the hiring company\n",
    "    </p>\n",
    "</div>"
   ]
  },
  {
   "cell_type": "markdown",
   "metadata": {},
   "source": [
    "**Send email by Python:**"
   ]
  },
  {
   "cell_type": "code",
   "execution_count": 35,
   "metadata": {},
   "outputs": [],
   "source": [
    "import smtplib\n",
    "import imghdr\n",
    "from email.mime.text import MIMEText\n",
    "from email.mime.image import MIMEImage\n",
    "from email.mime.multipart import MIMEMultipart\n",
    "from email.mime.application import MIMEApplication\n",
    "import random\n",
    "\n",
    "imgType_list = {'jpg','bmp','png','jpeg','rgb','tif'}\n",
    "\n",
    "# def send(sender_account,sender_password,toaddrs,email_text):\n",
    "#     try:\n",
    "#         server = smtplib.SMTP_SSL('smtp.gmail.com', 465)\n",
    "#         server.ehlo()\n",
    "#         server.login(sender_account, sender_password)\n",
    "#         server.sendmail(sender_account, toaddrs, email_text)\n",
    "#         server.close()\n",
    "#         print('Email sent!')\n",
    "#     except:\n",
    "#         print('Something went wrong...') \n",
    "\n",
    "def send(sender_account,sender_password,toaddrs,email_text):\n",
    "    try:\n",
    "        server = smtplib.SMTP('smtp.office365.com', 587)\n",
    "        server.starttls()\n",
    "        server.login(sender_account, sender_password)\n",
    "        print ('server working fine')\n",
    "        server.sendmail(sender_account, toaddrs, email_text)\n",
    "        server.close()\n",
    "        print('Email sent!')\n",
    "    except Exception as e:\n",
    "        print(e)\n",
    "        print('Something went wrong...') \n",
    "\n",
    "def sendmail(sender_account,sender_password,toaddrs,subject,content,attachments):\n",
    "\n",
    "    m = MIMEMultipart()\n",
    "    \n",
    "    textApart = MIMEText(content)\n",
    "    \n",
    "    m.attach(textApart)\n",
    "    \n",
    "    \n",
    "    for attach in attachments:\n",
    "        if imghdr.what(attach) in imgType_list:\n",
    "            imageApart = MIMEImage(open(attach, 'rb').read(), attach.split('.')[-1])\n",
    "            imageApart.add_header('Content-Disposition', 'attachment', filename=attach)\n",
    "            m.attach(imageApart)\n",
    "        else:\n",
    "            docApart = MIMEApplication(open(attach, 'rb').read())\n",
    "            docApart.add_header('Content-Disposition', 'attachment', filename=attach)\n",
    "            m.attach(docApart)\n",
    "            \n",
    "    m['Subject'] = subject\n",
    "    \n",
    "    send(sender_account,sender_password,toaddrs,m.as_string()) "
   ]
  },
  {
   "cell_type": "code",
   "execution_count": 36,
   "metadata": {},
   "outputs": [
    {
     "data": {
      "text/plain": [
       "['bwbw75@gmail.com']"
      ]
     },
     "execution_count": 36,
     "metadata": {},
     "output_type": "execute_result"
    }
   ],
   "source": [
    "company_emails"
   ]
  },
  {
   "cell_type": "code",
   "execution_count": 56,
   "metadata": {},
   "outputs": [
    {
     "name": "stdout",
     "output_type": "stream",
     "text": [
      "server working fine\n",
      "Email sent!\n",
      "server working fine\n",
      "Email sent!\n"
     ]
    }
   ],
   "source": [
    "for index,_ in enumerate(cover_letters):\n",
    "    sent_from = email_info['email']\n",
    "    to = [random.choices(company_emails)]\n",
    "    subject = 'Job application - cover letter & resume (Python)'\n",
    "    body = \"Dear Sir/Madam, \\n \\\n",
    "    I am eager to apply for your position. And consider myself a best fit. \\n \\\n",
    "    (insert many nice words of your choice) \\n\\n \\\n",
    "    Warm regards, \\n\" + name\n",
    "    attachments = ['./coverletter/coverleter_'+str(index)+\".pdf\",'./resume/resume.pdf']\n",
    "    sendmail(email_info['email'],email_info['password'],to,subject,body,attachments)"
   ]
  },
  {
   "cell_type": "markdown",
   "metadata": {},
   "source": [
    "<div class=\"alert alert-danger alertdanger\" style=\"margin-top: 20px\">\n",
    "    <h1>\n",
    "         Workshop Quiz:\n",
    "    </h1>\n",
    "    <p>\n",
    "         Send email by TagUI\n",
    "    </p>    \n",
    "    <p>\n",
    "         Recall \"CSS Selector Exericse in earlier workshop --- use the Bing Image Search to search the related image\" about How to use TagUI upload file\n",
    "    </p>\n",
    "                <p>\n",
    "        <b>Check TagUI-Python functions on TagUI-Python(<a href=\"https://github.com/tebelorg/RPA-Python\">https://github.com/tebelorg/RPA-Python</a>) </b>\n",
    "    </p>\n",
    "</div>"
   ]
  },
  {
   "cell_type": "code",
   "execution_count": null,
   "metadata": {},
   "outputs": [],
   "source": [
    "# Write your code from here:\n"
   ]
  },
  {
   "cell_type": "markdown",
   "metadata": {},
   "source": [
    "---"
   ]
  },
  {
   "cell_type": "code",
   "execution_count": null,
   "metadata": {},
   "outputs": [],
   "source": [
    "# Or use below 'filling the blank' coding template:"
   ]
  },
  {
   "cell_type": "code",
   "execution_count": null,
   "metadata": {},
   "outputs": [],
   "source": [
    "def sendemail_tagui_outlook(email_account,email_pwd,to,subject,body,attachments):\n",
    "    try:\n",
    "        loginEmail_outlook(email_account,email_pwd)\n",
    "        t.???(\"//button[contains(@class,'???') and contains(string(), '???')]\") # the xpath for the new email button\n",
    "        t.wait(2)\n",
    "        t.type(\"//???[contains(@class, 'ms-BasePicker-input')]\",\" \".join(to))\n",
    "        t.wait(2)\n",
    "        t.click(\"//input[contains(@class,'???') and contains(@aria-label, 'subject')]\")\n",
    "        t.???(\"???\",subject)\n",
    "        t.wait(2)\n",
    "        t.click(\"//div[@role='textbox']\")\n",
    "        t.type(\"//div[@role='textbox']\",body)\n",
    "        for file in attachments:\n",
    "            t.???(\"???\",file)# the css selector of upload files\n",
    "\n",
    "        t.click(\"//button[contains(@class,'ms-Button') and contains(string(), 'Send')]\")\n",
    "        t.wait(10)\n",
    "    finally:\n",
    "        t.close()"
   ]
  },
  {
   "cell_type": "code",
   "execution_count": 49,
   "metadata": {},
   "outputs": [],
   "source": [
    "for index,_ in enumerate(cover_letters):\n",
    "    sent_from = email_info['email']\n",
    "    to = random.choices(company_emails)\n",
    "    subject = 'Job application - cover letter & resume (TagUI)'\n",
    "    body = \"Dear Sir/Madam, \\n \\\n",
    "    I am eager to apply for your position. And consider myself a best fit. \\n \\\n",
    "    (insert many nice words of your choice) \\n\\n \\\n",
    "    Warm regards, \\n\" + name\n",
    "    attachments = ['./coverletter/coverleter_'+str(index)+\".pdf\",'./resume/resume.pdf']\n",
    "    sendemail_tagui_outlook(email_info['email'],email_info['password'],to,subject,body,attachments) "
   ]
  },
  {
   "cell_type": "code",
   "execution_count": 50,
   "metadata": {},
   "outputs": [],
   "source": [
    "# Uncommnet below, then press Shift+Enter for solution\n",
    "# codehelper.hint_for_ipa_exercise_two()"
   ]
  },
  {
   "cell_type": "markdown",
   "metadata": {},
   "source": [
    "<div class=\"alert alert-block alert-info\" style=\"margin-top: 20px\">\n",
    "    <a href=\"https://github.com/isa-ipa\">\n",
    "        <img src=\"\" width=\"60\" align=\"right\">\n",
    "     </a>\n",
    "     <h1>\n",
    "         End of Workshop\n",
    "     </h1>\n",
    "</div>"
   ]
  },
  {
   "cell_type": "markdown",
   "metadata": {},
   "source": [
    "---"
   ]
  }
 ],
 "metadata": {
  "kernelspec": {
   "display_name": "Python 3",
   "language": "python",
   "name": "python3"
  },
  "language_info": {
   "codemirror_mode": {
    "name": "ipython",
    "version": 3
   },
   "file_extension": ".py",
   "mimetype": "text/x-python",
   "name": "python",
   "nbconvert_exporter": "python",
   "pygments_lexer": "ipython3",
   "version": "3.6.9"
  }
 },
 "nbformat": 4,
 "nbformat_minor": 2
}